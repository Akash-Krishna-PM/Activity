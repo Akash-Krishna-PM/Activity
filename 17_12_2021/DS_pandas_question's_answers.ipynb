{
 "cells": [
  {
   "cell_type": "markdown",
   "metadata": {},
   "source": [
    "### Akash \n",
    "#### 17-12-2021"
   ]
  },
  {
   "cell_type": "code",
   "execution_count": 2,
   "metadata": {
    "ExecuteTime": {
     "end_time": "2021-12-17T05:37:03.578106Z",
     "start_time": "2021-12-17T05:37:01.845877Z"
    }
   },
   "outputs": [],
   "source": [
    "import pandas as pd\n",
    "import numpy as np"
   ]
  },
  {
   "cell_type": "markdown",
   "metadata": {},
   "source": [
    "## section- **1**"
   ]
  },
  {
   "cell_type": "markdown",
   "metadata": {},
   "source": [
    "### using pandas, from the list below create a series and print to the console"
   ]
  },
  {
   "cell_type": "markdown",
   "metadata": {},
   "source": [
    ">stocks = ['PLW', 'CDR', '11B', 'TEN']"
   ]
  },
  {
   "cell_type": "code",
   "execution_count": 3,
   "metadata": {},
   "outputs": [
    {
     "name": "stdout",
     "output_type": "stream",
     "text": [
      "0    PLW\n",
      "1    CDR\n",
      "2    11B\n",
      "3    TEN\n",
      "dtype: object\n"
     ]
    }
   ],
   "source": [
    "stocks_arr=np.array(['PLW','CDR','11B','TEN'])\n",
    "stocks=pd.Series(stocks_arr)\n",
    "print(stocks)"
   ]
  },
  {
   "cell_type": "markdown",
   "metadata": {},
   "source": [
    "### using pandas,from the dictionary below create a pandas series and print it to the console"
   ]
  },
  {
   "cell_type": "markdown",
   "metadata": {},
   "source": [
    ">stocks = {'PLW': 387.00, 'CDR': 339.5, 'TEN': 349.5, '11B': 391.0}"
   ]
  },
  {
   "cell_type": "code",
   "execution_count": 4,
   "metadata": {},
   "outputs": [
    {
     "name": "stdout",
     "output_type": "stream",
     "text": [
      "PLW    387.0\n",
      "CDR    339.5\n",
      "TEN    349.5\n",
      "11B    391.0\n",
      "dtype: float64\n"
     ]
    }
   ],
   "source": [
    "stocks_dict = {'PLW': 387.00, 'CDR': 339.5, 'TEN': 349.5, '11B': 391.0}\n",
    "stocks_series=pd.Series(stocks_dict)\n",
    "print (stocks_series)"
   ]
  },
  {
   "cell_type": "markdown",
   "metadata": {},
   "source": [
    "### the following series is given,convert it to a python list and print the list to the console."
   ]
  },
  {
   "cell_type": "markdown",
   "metadata": {},
   "source": [
    ">PLW    387.0  \n",
    "CDR    339.5  \n",
    "TEN    349.5  \n",
    "11B    391.0  \n",
    "dtype: float64"
   ]
  },
  {
   "cell_type": "markdown",
   "metadata": {},
   "source": [
    ">using tolist()"
   ]
  },
  {
   "cell_type": "code",
   "execution_count": 5,
   "metadata": {},
   "outputs": [
    {
     "name": "stdout",
     "output_type": "stream",
     "text": [
      "[387.0, 339.5, 349.5, 391.0]\n"
     ]
    }
   ],
   "source": [
    "\n",
    "stock_list=stocks_series.tolist()\n",
    "print (stock_list)"
   ]
  },
  {
   "cell_type": "markdown",
   "metadata": {},
   "source": [
    "### the following series is given, convert it to a dataframe and set the column name to \"price\""
   ]
  },
  {
   "cell_type": "markdown",
   "metadata": {},
   "source": [
    ">PLW    387.0  \n",
    "CDR    339.5  \n",
    "TEN    349.5  \n",
    "11B    391.0  \n",
    "dtype: float64"
   ]
  },
  {
   "cell_type": "code",
   "execution_count": 11,
   "metadata": {},
   "outputs": [
    {
     "data": {
      "text/plain": [
       "387.0"
      ]
     },
     "execution_count": 11,
     "metadata": {},
     "output_type": "execute_result"
    }
   ],
   "source": [
    "stocks_series[0]"
   ]
  },
  {
   "cell_type": "code",
   "execution_count": 13,
   "metadata": {},
   "outputs": [],
   "source": [
    "stocks_df=pd.DataFrame(data=stocks_series,columns=['price'])"
   ]
  },
  {
   "cell_type": "code",
   "execution_count": 14,
   "metadata": {},
   "outputs": [
    {
     "data": {
      "text/html": [
       "<div>\n",
       "<style scoped>\n",
       "    .dataframe tbody tr th:only-of-type {\n",
       "        vertical-align: middle;\n",
       "    }\n",
       "\n",
       "    .dataframe tbody tr th {\n",
       "        vertical-align: top;\n",
       "    }\n",
       "\n",
       "    .dataframe thead th {\n",
       "        text-align: right;\n",
       "    }\n",
       "</style>\n",
       "<table border=\"1\" class=\"dataframe\">\n",
       "  <thead>\n",
       "    <tr style=\"text-align: right;\">\n",
       "      <th></th>\n",
       "      <th>price</th>\n",
       "    </tr>\n",
       "  </thead>\n",
       "  <tbody>\n",
       "    <tr>\n",
       "      <th>PLW</th>\n",
       "      <td>387.0</td>\n",
       "    </tr>\n",
       "    <tr>\n",
       "      <th>CDR</th>\n",
       "      <td>339.5</td>\n",
       "    </tr>\n",
       "    <tr>\n",
       "      <th>TEN</th>\n",
       "      <td>349.5</td>\n",
       "    </tr>\n",
       "    <tr>\n",
       "      <th>11B</th>\n",
       "      <td>391.0</td>\n",
       "    </tr>\n",
       "  </tbody>\n",
       "</table>\n",
       "</div>"
      ],
      "text/plain": [
       "     price\n",
       "PLW  387.0\n",
       "CDR  339.5\n",
       "TEN  349.5\n",
       "11B  391.0"
      ]
     },
     "execution_count": 14,
     "metadata": {},
     "output_type": "execute_result"
    }
   ],
   "source": [
    "stocks_df"
   ]
  },
  {
   "cell_type": "markdown",
   "metadata": {},
   "source": [
    "### using numpy and pandas, create the following series"
   ]
  },
  {
   "cell_type": "markdown",
   "metadata": {},
   "source": [
    ">101      10.0  \n",
    "102      20.0  \n",
    "103      30.0  \n",
    "104      40.0  \n",
    "105      50.0  \n",
    "106      60.0  \n",
    "107      70.0  \n",
    "108      80.0  \n",
    "109      90.0  \n",
    "dtype: float64"
   ]
  },
  {
   "cell_type": "code",
   "execution_count": 15,
   "metadata": {},
   "outputs": [],
   "source": [
    "dition={'101':10.0,'102':20.0,'103':30.0,'104':40.0,'105':50.0,'106':60.0,'107':70.0,'108':80.0,'109':90.0}"
   ]
  },
  {
   "cell_type": "code",
   "execution_count": 16,
   "metadata": {},
   "outputs": [],
   "source": [
    "serees=pd.Series(dition)"
   ]
  },
  {
   "cell_type": "code",
   "execution_count": 17,
   "metadata": {},
   "outputs": [
    {
     "data": {
      "text/plain": [
       "101    10.0\n",
       "102    20.0\n",
       "103    30.0\n",
       "104    40.0\n",
       "105    50.0\n",
       "106    60.0\n",
       "107    70.0\n",
       "108    80.0\n",
       "109    90.0\n",
       "dtype: float64"
      ]
     },
     "execution_count": 17,
     "metadata": {},
     "output_type": "execute_result"
    }
   ],
   "source": [
    "serees"
   ]
  },
  {
   "cell_type": "code",
   "execution_count": 18,
   "metadata": {},
   "outputs": [],
   "source": [
    "data=np.arange(10.0,90.0,10.0)"
   ]
  },
  {
   "cell_type": "code",
   "execution_count": 19,
   "metadata": {},
   "outputs": [],
   "source": [
    "index=np.arange(101,109)"
   ]
  },
  {
   "cell_type": "code",
   "execution_count": 20,
   "metadata": {},
   "outputs": [],
   "source": [
    "ser=pd.Series(data,index)"
   ]
  },
  {
   "cell_type": "code",
   "execution_count": 21,
   "metadata": {},
   "outputs": [
    {
     "data": {
      "text/plain": [
       "101    10.0\n",
       "102    20.0\n",
       "103    30.0\n",
       "104    40.0\n",
       "105    50.0\n",
       "106    60.0\n",
       "107    70.0\n",
       "108    80.0\n",
       "dtype: float64"
      ]
     },
     "execution_count": 21,
     "metadata": {},
     "output_type": "execute_result"
    }
   ],
   "source": [
    "ser"
   ]
  },
  {
   "cell_type": "code",
   "execution_count": 22,
   "metadata": {},
   "outputs": [
    {
     "name": "stdout",
     "output_type": "stream",
     "text": [
      "101    10.0\n",
      "102    20.0\n",
      "103    30.0\n",
      "104    40.0\n",
      "105    50.0\n",
      "106    60.0\n",
      "107    70.0\n",
      "108    80.0\n",
      "dtype: float64\n"
     ]
    }
   ],
   "source": [
    "print(ser)"
   ]
  },
  {
   "cell_type": "markdown",
   "metadata": {},
   "source": [
    "### following series is given, convert it to int type and print to the console"
   ]
  },
  {
   "cell_type": "code",
   "execution_count": 24,
   "metadata": {},
   "outputs": [
    {
     "data": {
      "text/plain": [
       "['a', 'b', 'c', 'd']"
      ]
     },
     "execution_count": 24,
     "metadata": {},
     "output_type": "execute_result"
    }
   ],
   "source": [
    "list('abcd')"
   ]
  },
  {
   "cell_type": "markdown",
   "metadata": {},
   "source": [
    "```\n",
    "series = pd.Series(['001', '002', '003', '004'], list('abcd'))\n",
    "```"
   ]
  },
  {
   "cell_type": "markdown",
   "metadata": {},
   "source": [
    "> using to_numeric()"
   ]
  },
  {
   "cell_type": "code",
   "execution_count": 25,
   "metadata": {},
   "outputs": [],
   "source": [
    "series = pd.Series(['001', '002', '003', '004'], list('abcd'))"
   ]
  },
  {
   "cell_type": "code",
   "execution_count": 27,
   "metadata": {},
   "outputs": [
    {
     "data": {
      "text/plain": [
       "a    001\n",
       "b    002\n",
       "c    003\n",
       "d    004\n",
       "dtype: object"
      ]
     },
     "execution_count": 27,
     "metadata": {},
     "output_type": "execute_result"
    }
   ],
   "source": [
    "series"
   ]
  },
  {
   "cell_type": "code",
   "execution_count": 26,
   "metadata": {},
   "outputs": [
    {
     "data": {
      "text/plain": [
       "a    1\n",
       "b    2\n",
       "c    3\n",
       "d    4\n",
       "dtype: int64"
      ]
     },
     "execution_count": 26,
     "metadata": {},
     "output_type": "execute_result"
    }
   ],
   "source": [
    "pd.to_numeric(series)"
   ]
  },
  {
   "cell_type": "markdown",
   "metadata": {},
   "source": [
    "> using astype()"
   ]
  },
  {
   "cell_type": "code",
   "execution_count": 29,
   "metadata": {},
   "outputs": [
    {
     "data": {
      "text/plain": [
       "a    1\n",
       "b    2\n",
       "c    3\n",
       "d    4\n",
       "dtype: int32"
      ]
     },
     "execution_count": 29,
     "metadata": {},
     "output_type": "execute_result"
    }
   ],
   "source": [
    "series.astype(dtype=int)"
   ]
  },
  {
   "cell_type": "markdown",
   "metadata": {},
   "source": [
    "### the following series is given, add two elements to this series.\n",
    "\n",
    "> key:\"BBT\",value:25.5  \n",
    "key:\"F51\",value:19.2"
   ]
  },
  {
   "cell_type": "markdown",
   "metadata": {},
   "source": [
    "```\n",
    "stocks = {'PLW': 387.00, 'CDR': 339.5, 'TEN': 349.5, '11B': 391.0}\n",
    "quotations = pd.Series(data=stocks)\n",
    "```"
   ]
  },
  {
   "cell_type": "markdown",
   "metadata": {},
   "source": [
    ">using append()"
   ]
  },
  {
   "cell_type": "code",
   "execution_count": 45,
   "metadata": {},
   "outputs": [],
   "source": [
    "stocks = {'PLW': 387.00, 'CDR': 339.5, 'TEN': 349.5, '11B': 391.0}\n",
    "quotations = pd.Series(data=stocks)\n",
    "quot=quotations"
   ]
  },
  {
   "cell_type": "code",
   "execution_count": 46,
   "metadata": {},
   "outputs": [
    {
     "data": {
      "text/plain": [
       "PLW    387.0\n",
       "CDR    339.5\n",
       "TEN    349.5\n",
       "11B    391.0\n",
       "dtype: float64"
      ]
     },
     "execution_count": 46,
     "metadata": {},
     "output_type": "execute_result"
    }
   ],
   "source": [
    "quotations"
   ]
  },
  {
   "cell_type": "code",
   "execution_count": 47,
   "metadata": {},
   "outputs": [],
   "source": [
    "q=pd.Series([25.5,19.2],['BBT','F51'])"
   ]
  },
  {
   "cell_type": "code",
   "execution_count": 48,
   "metadata": {},
   "outputs": [
    {
     "data": {
      "text/plain": [
       "PLW    387.0\n",
       "CDR    339.5\n",
       "TEN    349.5\n",
       "11B    391.0\n",
       "BBT     25.5\n",
       "F51     19.2\n",
       "dtype: float64"
      ]
     },
     "execution_count": 48,
     "metadata": {},
     "output_type": "execute_result"
    }
   ],
   "source": [
    "quot.append(q)"
   ]
  },
  {
   "cell_type": "markdown",
   "metadata": {},
   "source": [
    "> using dict key value"
   ]
  },
  {
   "cell_type": "code",
   "execution_count": 50,
   "metadata": {
    "scrolled": true
   },
   "outputs": [
    {
     "data": {
      "text/plain": [
       "PLW    387.0\n",
       "CDR    339.5\n",
       "TEN    349.5\n",
       "11B    391.0\n",
       "BBT     25.5\n",
       "F51     19.2\n",
       "dtype: float64"
      ]
     },
     "execution_count": 50,
     "metadata": {},
     "output_type": "execute_result"
    }
   ],
   "source": [
    "additional_stocks={'BBT':25.5,'F51':19.2}\n",
    "ast=pd.Series(additional_stocks)\n",
    "quotations.append(ast)"
   ]
  },
  {
   "cell_type": "markdown",
   "metadata": {},
   "source": [
    "### the following series is given,convert it to a dataframe and rest the index and set column names to \"ticker\" and \"price\""
   ]
  },
  {
   "cell_type": "markdown",
   "metadata": {},
   "source": [
    "```\n",
    "stocks = {'PLW': 387.00, 'CDR': 339.5, 'TEN': 349.5, '11B': 391.0, 'BBT': 25.5, 'F51': 19.2}\n",
    "quotations = pd.Series(data=stocks)\n",
    "```"
   ]
  },
  {
   "cell_type": "code",
   "execution_count": 51,
   "metadata": {},
   "outputs": [],
   "source": [
    "stocks = {'PLW': 387.00, 'CDR': 339.5, 'TEN': 349.5, '11B': 391.0, 'BBT': 25.5, 'F51': 19.2}"
   ]
  },
  {
   "cell_type": "code",
   "execution_count": 52,
   "metadata": {},
   "outputs": [],
   "source": [
    "quotations = pd.Series(data=stocks)"
   ]
  },
  {
   "cell_type": "code",
   "execution_count": 66,
   "metadata": {},
   "outputs": [
    {
     "data": {
      "text/plain": [
       "387.0"
      ]
     },
     "execution_count": 66,
     "metadata": {},
     "output_type": "execute_result"
    }
   ],
   "source": [
    "quotations[0]"
   ]
  },
  {
   "cell_type": "code",
   "execution_count": 79,
   "metadata": {},
   "outputs": [],
   "source": [
    "qdf=pd.DataFrame(quotations)"
   ]
  },
  {
   "cell_type": "code",
   "execution_count": 80,
   "metadata": {},
   "outputs": [
    {
     "data": {
      "text/html": [
       "<div>\n",
       "<style scoped>\n",
       "    .dataframe tbody tr th:only-of-type {\n",
       "        vertical-align: middle;\n",
       "    }\n",
       "\n",
       "    .dataframe tbody tr th {\n",
       "        vertical-align: top;\n",
       "    }\n",
       "\n",
       "    .dataframe thead th {\n",
       "        text-align: right;\n",
       "    }\n",
       "</style>\n",
       "<table border=\"1\" class=\"dataframe\">\n",
       "  <thead>\n",
       "    <tr style=\"text-align: right;\">\n",
       "      <th></th>\n",
       "      <th>0</th>\n",
       "    </tr>\n",
       "  </thead>\n",
       "  <tbody>\n",
       "    <tr>\n",
       "      <th>PLW</th>\n",
       "      <td>387.0</td>\n",
       "    </tr>\n",
       "    <tr>\n",
       "      <th>CDR</th>\n",
       "      <td>339.5</td>\n",
       "    </tr>\n",
       "    <tr>\n",
       "      <th>TEN</th>\n",
       "      <td>349.5</td>\n",
       "    </tr>\n",
       "    <tr>\n",
       "      <th>11B</th>\n",
       "      <td>391.0</td>\n",
       "    </tr>\n",
       "    <tr>\n",
       "      <th>BBT</th>\n",
       "      <td>25.5</td>\n",
       "    </tr>\n",
       "    <tr>\n",
       "      <th>F51</th>\n",
       "      <td>19.2</td>\n",
       "    </tr>\n",
       "  </tbody>\n",
       "</table>\n",
       "</div>"
      ],
      "text/plain": [
       "         0\n",
       "PLW  387.0\n",
       "CDR  339.5\n",
       "TEN  349.5\n",
       "11B  391.0\n",
       "BBT   25.5\n",
       "F51   19.2"
      ]
     },
     "execution_count": 80,
     "metadata": {},
     "output_type": "execute_result"
    }
   ],
   "source": [
    "qdf"
   ]
  },
  {
   "cell_type": "code",
   "execution_count": 81,
   "metadata": {},
   "outputs": [],
   "source": [
    "qdf.reset_index(inplace=True)"
   ]
  },
  {
   "cell_type": "code",
   "execution_count": 73,
   "metadata": {},
   "outputs": [
    {
     "data": {
      "text/html": [
       "<div>\n",
       "<style scoped>\n",
       "    .dataframe tbody tr th:only-of-type {\n",
       "        vertical-align: middle;\n",
       "    }\n",
       "\n",
       "    .dataframe tbody tr th {\n",
       "        vertical-align: top;\n",
       "    }\n",
       "\n",
       "    .dataframe thead th {\n",
       "        text-align: right;\n",
       "    }\n",
       "</style>\n",
       "<table border=\"1\" class=\"dataframe\">\n",
       "  <thead>\n",
       "    <tr style=\"text-align: right;\">\n",
       "      <th></th>\n",
       "      <th>index</th>\n",
       "      <th>0</th>\n",
       "    </tr>\n",
       "  </thead>\n",
       "  <tbody>\n",
       "    <tr>\n",
       "      <th>0</th>\n",
       "      <td>PLW</td>\n",
       "      <td>387.0</td>\n",
       "    </tr>\n",
       "    <tr>\n",
       "      <th>1</th>\n",
       "      <td>CDR</td>\n",
       "      <td>339.5</td>\n",
       "    </tr>\n",
       "    <tr>\n",
       "      <th>2</th>\n",
       "      <td>TEN</td>\n",
       "      <td>349.5</td>\n",
       "    </tr>\n",
       "    <tr>\n",
       "      <th>3</th>\n",
       "      <td>11B</td>\n",
       "      <td>391.0</td>\n",
       "    </tr>\n",
       "    <tr>\n",
       "      <th>4</th>\n",
       "      <td>BBT</td>\n",
       "      <td>25.5</td>\n",
       "    </tr>\n",
       "    <tr>\n",
       "      <th>5</th>\n",
       "      <td>F51</td>\n",
       "      <td>19.2</td>\n",
       "    </tr>\n",
       "  </tbody>\n",
       "</table>\n",
       "</div>"
      ],
      "text/plain": [
       "  index      0\n",
       "0   PLW  387.0\n",
       "1   CDR  339.5\n",
       "2   TEN  349.5\n",
       "3   11B  391.0\n",
       "4   BBT   25.5\n",
       "5   F51   19.2"
      ]
     },
     "execution_count": 73,
     "metadata": {},
     "output_type": "execute_result"
    }
   ],
   "source": [
    "qdf"
   ]
  },
  {
   "cell_type": "code",
   "execution_count": 83,
   "metadata": {},
   "outputs": [
    {
     "data": {
      "text/html": [
       "<div>\n",
       "<style scoped>\n",
       "    .dataframe tbody tr th:only-of-type {\n",
       "        vertical-align: middle;\n",
       "    }\n",
       "\n",
       "    .dataframe tbody tr th {\n",
       "        vertical-align: top;\n",
       "    }\n",
       "\n",
       "    .dataframe thead th {\n",
       "        text-align: right;\n",
       "    }\n",
       "</style>\n",
       "<table border=\"1\" class=\"dataframe\">\n",
       "  <thead>\n",
       "    <tr style=\"text-align: right;\">\n",
       "      <th></th>\n",
       "      <th>ticker</th>\n",
       "      <th>price</th>\n",
       "    </tr>\n",
       "  </thead>\n",
       "  <tbody>\n",
       "    <tr>\n",
       "      <th>0</th>\n",
       "      <td>PLW</td>\n",
       "      <td>387.0</td>\n",
       "    </tr>\n",
       "    <tr>\n",
       "      <th>1</th>\n",
       "      <td>CDR</td>\n",
       "      <td>339.5</td>\n",
       "    </tr>\n",
       "    <tr>\n",
       "      <th>2</th>\n",
       "      <td>TEN</td>\n",
       "      <td>349.5</td>\n",
       "    </tr>\n",
       "    <tr>\n",
       "      <th>3</th>\n",
       "      <td>11B</td>\n",
       "      <td>391.0</td>\n",
       "    </tr>\n",
       "    <tr>\n",
       "      <th>4</th>\n",
       "      <td>BBT</td>\n",
       "      <td>25.5</td>\n",
       "    </tr>\n",
       "    <tr>\n",
       "      <th>5</th>\n",
       "      <td>F51</td>\n",
       "      <td>19.2</td>\n",
       "    </tr>\n",
       "  </tbody>\n",
       "</table>\n",
       "</div>"
      ],
      "text/plain": [
       "  ticker  price\n",
       "0    PLW  387.0\n",
       "1    CDR  339.5\n",
       "2    TEN  349.5\n",
       "3    11B  391.0\n",
       "4    BBT   25.5\n",
       "5    F51   19.2"
      ]
     },
     "execution_count": 83,
     "metadata": {},
     "output_type": "execute_result"
    }
   ],
   "source": [
    "qdf.rename(columns={\"index\":\"ticker\",0:\"price\"})"
   ]
  },
  {
   "cell_type": "markdown",
   "metadata": {},
   "source": [
    "### create the following dataframe and print to the console"
   ]
  },
  {
   "cell_type": "markdown",
   "metadata": {},
   "source": [
    "| |company|price|ticker|\n",
    "|---|---|---|---|\n",
    "0|Amazon|2375.0|AMZN.US  \n",
    "1|Microsoft|178.6|MSFT.US  \n",
    "2|Facebook|179.2|FB.US"
   ]
  },
  {
   "cell_type": "code",
   "execution_count": 101,
   "metadata": {},
   "outputs": [
    {
     "data": {
      "text/plain": [
       "{'company': ['Amazon', 'Microsoft', 'Facebook'],\n",
       " 'price': [2375.0, 178.6, 179.2],\n",
       " 'ticker': ['AMZN.US', 'MSFT.US', 'FB.US']}"
      ]
     },
     "execution_count": 101,
     "metadata": {},
     "output_type": "execute_result"
    }
   ],
   "source": [
    "df={'company':['Amazon','Microsoft','Facebook'],\n",
    "    'price':[2375.0,178.6,179.2],\n",
    "    'ticker':['AMZN.US','MSFT.US','FB.US']\n",
    "   }\n",
    "df"
   ]
  },
  {
   "cell_type": "code",
   "execution_count": 102,
   "metadata": {},
   "outputs": [],
   "source": [
    "df=pd.DataFrame(df)"
   ]
  },
  {
   "cell_type": "code",
   "execution_count": 103,
   "metadata": {},
   "outputs": [
    {
     "data": {
      "text/html": [
       "<div>\n",
       "<style scoped>\n",
       "    .dataframe tbody tr th:only-of-type {\n",
       "        vertical-align: middle;\n",
       "    }\n",
       "\n",
       "    .dataframe tbody tr th {\n",
       "        vertical-align: top;\n",
       "    }\n",
       "\n",
       "    .dataframe thead th {\n",
       "        text-align: right;\n",
       "    }\n",
       "</style>\n",
       "<table border=\"1\" class=\"dataframe\">\n",
       "  <thead>\n",
       "    <tr style=\"text-align: right;\">\n",
       "      <th></th>\n",
       "      <th>company</th>\n",
       "      <th>price</th>\n",
       "      <th>ticker</th>\n",
       "    </tr>\n",
       "  </thead>\n",
       "  <tbody>\n",
       "    <tr>\n",
       "      <th>0</th>\n",
       "      <td>Amazon</td>\n",
       "      <td>2375.0</td>\n",
       "      <td>AMZN.US</td>\n",
       "    </tr>\n",
       "    <tr>\n",
       "      <th>1</th>\n",
       "      <td>Microsoft</td>\n",
       "      <td>178.6</td>\n",
       "      <td>MSFT.US</td>\n",
       "    </tr>\n",
       "    <tr>\n",
       "      <th>2</th>\n",
       "      <td>Facebook</td>\n",
       "      <td>179.2</td>\n",
       "      <td>FB.US</td>\n",
       "    </tr>\n",
       "  </tbody>\n",
       "</table>\n",
       "</div>"
      ],
      "text/plain": [
       "     company   price   ticker\n",
       "0     Amazon  2375.0  AMZN.US\n",
       "1  Microsoft   178.6  MSFT.US\n",
       "2   Facebook   179.2    FB.US"
      ]
     },
     "execution_count": 103,
     "metadata": {},
     "output_type": "execute_result"
    }
   ],
   "source": [
    "df"
   ]
  },
  {
   "cell_type": "markdown",
   "metadata": {},
   "source": [
    "### convert the first column of dataframe to index and print to the console"
   ]
  },
  {
   "cell_type": "markdown",
   "metadata": {},
   "source": [
    "| |company|price|ticker|\n",
    "|---|---|---|---|\n",
    "0|Amazon|2375.0|AMZN.US  \n",
    "1|Microsoft|178.6|MSFT.US  \n",
    "2|Facebook|179.2|FB.US"
   ]
  },
  {
   "cell_type": "code",
   "execution_count": 104,
   "metadata": {},
   "outputs": [
    {
     "data": {
      "text/plain": [
       "0       Amazon\n",
       "1    Microsoft\n",
       "2     Facebook\n",
       "Name: company, dtype: object"
      ]
     },
     "execution_count": 104,
     "metadata": {},
     "output_type": "execute_result"
    }
   ],
   "source": [
    "df[df.columns[0]]"
   ]
  },
  {
   "cell_type": "code",
   "execution_count": 109,
   "metadata": {},
   "outputs": [],
   "source": [
    "df.set_index(['company'],inplace=True)"
   ]
  },
  {
   "cell_type": "code",
   "execution_count": 110,
   "metadata": {},
   "outputs": [
    {
     "data": {
      "text/html": [
       "<div>\n",
       "<style scoped>\n",
       "    .dataframe tbody tr th:only-of-type {\n",
       "        vertical-align: middle;\n",
       "    }\n",
       "\n",
       "    .dataframe tbody tr th {\n",
       "        vertical-align: top;\n",
       "    }\n",
       "\n",
       "    .dataframe thead th {\n",
       "        text-align: right;\n",
       "    }\n",
       "</style>\n",
       "<table border=\"1\" class=\"dataframe\">\n",
       "  <thead>\n",
       "    <tr style=\"text-align: right;\">\n",
       "      <th></th>\n",
       "      <th>price</th>\n",
       "      <th>ticker</th>\n",
       "    </tr>\n",
       "    <tr>\n",
       "      <th>company</th>\n",
       "      <th></th>\n",
       "      <th></th>\n",
       "    </tr>\n",
       "  </thead>\n",
       "  <tbody>\n",
       "    <tr>\n",
       "      <th>Amazon</th>\n",
       "      <td>2375.0</td>\n",
       "      <td>AMZN.US</td>\n",
       "    </tr>\n",
       "    <tr>\n",
       "      <th>Microsoft</th>\n",
       "      <td>178.6</td>\n",
       "      <td>MSFT.US</td>\n",
       "    </tr>\n",
       "    <tr>\n",
       "      <th>Facebook</th>\n",
       "      <td>179.2</td>\n",
       "      <td>FB.US</td>\n",
       "    </tr>\n",
       "  </tbody>\n",
       "</table>\n",
       "</div>"
      ],
      "text/plain": [
       "            price   ticker\n",
       "company                   \n",
       "Amazon     2375.0  AMZN.US\n",
       "Microsoft   178.6  MSFT.US\n",
       "Facebook    179.2    FB.US"
      ]
     },
     "execution_count": 110,
     "metadata": {},
     "output_type": "execute_result"
    }
   ],
   "source": [
    "df"
   ]
  },
  {
   "cell_type": "markdown",
   "metadata": {},
   "source": [
    "## section- **2**"
   ]
  },
  {
   "cell_type": "markdown",
   "metadata": {},
   "source": [
    "### create datetimeindex object containg ```yyyy-mm-dd``` format dates for all dates for dec 2021 and print it to the console"
   ]
  },
  {
   "cell_type": "markdown",
   "metadata": {},
   "source": [
    "```\n",
    "DatetimeIndex(['2021-12-01', '2021-12-02', '2021-12-03', '2021-12-04',\n",
    "               '2021-12-05', '2021-12-06', '2021-12-07', '2021-12-08',\n",
    "               '2021-12-09', '2021-12-10', '2021-12-11', '2021-12-12',\n",
    "               '2021-12-13', '2021-12-14', '2021-12-15', '2021-12-16',\n",
    "               '2021-12-17', '2021-12-18', '2021-12-19', '2021-12-20',\n",
    "               '2021-12-21', '2021-12-22', '2021-12-23', '2021-12-24',\n",
    "               '2021-12-25', '2021-12-26', '2021-12-27', '2021-12-28',\n",
    "               '2021-12-29', '2021-12-30', '2021-12-31'],\n",
    "              dtype='datetime64[ns]', freq='D')\n",
    "              ```"
   ]
  },
  {
   "cell_type": "markdown",
   "metadata": {},
   "source": [
    "> using date_range()"
   ]
  },
  {
   "cell_type": "code",
   "execution_count": 111,
   "metadata": {
    "ExecuteTime": {
     "end_time": "2021-12-17T05:57:13.714764Z",
     "start_time": "2021-12-17T05:57:13.693761Z"
    }
   },
   "outputs": [
    {
     "name": "stdout",
     "output_type": "stream",
     "text": [
      "DatetimeIndex(['2021-12-01', '2021-12-02', '2021-12-03', '2021-12-04',\n",
      "               '2021-12-05', '2021-12-06', '2021-12-07', '2021-12-08',\n",
      "               '2021-12-09', '2021-12-10', '2021-12-11', '2021-12-12',\n",
      "               '2021-12-13', '2021-12-14', '2021-12-15', '2021-12-16',\n",
      "               '2021-12-17', '2021-12-18', '2021-12-19', '2021-12-20',\n",
      "               '2021-12-21', '2021-12-22', '2021-12-23', '2021-12-24',\n",
      "               '2021-12-25', '2021-12-26', '2021-12-27', '2021-12-28',\n",
      "               '2021-12-29', '2021-12-30', '2021-12-31'],\n",
      "              dtype='datetime64[ns]', freq='D')\n"
     ]
    }
   ],
   "source": [
    "date=pd.date_range(start=\"2021-12-01\",periods=31)\n",
    "print(date)"
   ]
  },
  {
   "cell_type": "code",
   "execution_count": 112,
   "metadata": {},
   "outputs": [
    {
     "data": {
      "text/plain": [
       "DatetimeIndex(['2021-12-01', '2021-12-02', '2021-12-03', '2021-12-04',\n",
       "               '2021-12-05', '2021-12-06', '2021-12-07', '2021-12-08',\n",
       "               '2021-12-09', '2021-12-10', '2021-12-11', '2021-12-12',\n",
       "               '2021-12-13', '2021-12-14', '2021-12-15', '2021-12-16',\n",
       "               '2021-12-17', '2021-12-18', '2021-12-19', '2021-12-20',\n",
       "               '2021-12-21', '2021-12-22', '2021-12-23', '2021-12-24',\n",
       "               '2021-12-25', '2021-12-26', '2021-12-27', '2021-12-28',\n",
       "               '2021-12-29', '2021-12-30', '2021-12-31'],\n",
       "              dtype='datetime64[ns]', freq='D')"
      ]
     },
     "execution_count": 112,
     "metadata": {},
     "output_type": "execute_result"
    }
   ],
   "source": [
    "date"
   ]
  },
  {
   "cell_type": "markdown",
   "metadata": {},
   "source": [
    "### create datetimeindex object containg ```yyyy-mm-dd``` format dates for all mondays for 2021 and print it to the console"
   ]
  },
  {
   "cell_type": "markdown",
   "metadata": {},
   "source": [
    "```\n",
    "DatetimeIndex(['2021-01-04', '2021-01-11', '2021-01-18', '2021-01-25',\n",
    "               '2021-02-01', '2021-02-08', '2021-02-15', '2021-02-22',\n",
    "               '2021-03-01', '2021-03-08', '2021-03-15', '2021-03-22',\n",
    "               '2021-03-29', '2021-04-05', '2021-04-12', '2021-04-19',\n",
    "               '2021-04-26', '2021-05-03', '2021-05-10', '2021-05-17',\n",
    "               '2021-05-24', '2021-05-31', '2021-06-07', '2021-06-14',\n",
    "               '2021-06-21', '2021-06-28', '2021-07-05', '2021-07-12',\n",
    "               '2021-07-19', '2021-07-26', '2021-08-02', '2021-08-09',\n",
    "               '2021-08-16', '2021-08-23', '2021-08-30', '2021-09-06',\n",
    "               '2021-09-13', '2021-09-20', '2021-09-27', '2021-10-04',\n",
    "               '2021-10-11', '2021-10-18', '2021-10-25', '2021-11-01',\n",
    "               '2021-11-08', '2021-11-15', '2021-11-22', '2021-11-29',\n",
    "               '2021-12-06', '2021-12-13', '2021-12-20', '2021-12-27'],\n",
    "              dtype='datetime64[ns]', freq='W-MON')\n",
    "              ```"
   ]
  },
  {
   "cell_type": "code",
   "execution_count": 118,
   "metadata": {},
   "outputs": [],
   "source": [
    "mdate=pd.date_range(start='2021-01-01',end='2021-12-31',freq='W-MON')"
   ]
  },
  {
   "cell_type": "code",
   "execution_count": 119,
   "metadata": {},
   "outputs": [
    {
     "name": "stdout",
     "output_type": "stream",
     "text": [
      "DatetimeIndex(['2021-01-04', '2021-01-11', '2021-01-18', '2021-01-25',\n",
      "               '2021-02-01', '2021-02-08', '2021-02-15', '2021-02-22',\n",
      "               '2021-03-01', '2021-03-08', '2021-03-15', '2021-03-22',\n",
      "               '2021-03-29', '2021-04-05', '2021-04-12', '2021-04-19',\n",
      "               '2021-04-26', '2021-05-03', '2021-05-10', '2021-05-17',\n",
      "               '2021-05-24', '2021-05-31', '2021-06-07', '2021-06-14',\n",
      "               '2021-06-21', '2021-06-28', '2021-07-05', '2021-07-12',\n",
      "               '2021-07-19', '2021-07-26', '2021-08-02', '2021-08-09',\n",
      "               '2021-08-16', '2021-08-23', '2021-08-30', '2021-09-06',\n",
      "               '2021-09-13', '2021-09-20', '2021-09-27', '2021-10-04',\n",
      "               '2021-10-11', '2021-10-18', '2021-10-25', '2021-11-01',\n",
      "               '2021-11-08', '2021-11-15', '2021-11-22', '2021-11-29',\n",
      "               '2021-12-06', '2021-12-13', '2021-12-20', '2021-12-27'],\n",
      "              dtype='datetime64[ns]', freq='W-MON')\n"
     ]
    }
   ],
   "source": [
    "print(mdate)"
   ]
  },
  {
   "cell_type": "markdown",
   "metadata": {},
   "source": [
    "### create datetimeindex object containg dates in the format```yyyy-mm-dd  hh:mm:ss``` for jan 2021 with a time interval of 1H and print it to the console"
   ]
  },
  {
   "cell_type": "markdown",
   "metadata": {},
   "source": [
    "```\n",
    "DatetimeIndex(['2021-01-01 00:00:00', '2021-01-01 01:00:00',\n",
    "               '2021-01-01 02:00:00', '2021-01-01 03:00:00',\n",
    "               '2021-01-01 04:00:00', '2021-01-01 05:00:00',\n",
    "               '2021-01-01 06:00:00', '2021-01-01 07:00:00',\n",
    "               '2021-01-01 08:00:00', '2021-01-01 09:00:00',\n",
    "               '2021-01-01 10:00:00', '2021-01-01 11:00:00',\n",
    "               '2021-01-01 12:00:00', '2021-01-01 13:00:00',\n",
    "               '2021-01-01 14:00:00', '2021-01-01 15:00:00',\n",
    "               '2021-01-01 16:00:00', '2021-01-01 17:00:00',\n",
    "               '2021-01-01 18:00:00', '2021-01-01 19:00:00',\n",
    "               '2021-01-01 20:00:00', '2021-01-01 21:00:00',\n",
    "               '2021-01-01 22:00:00', '2021-01-01 23:00:00'],\n",
    "              dtype='datetime64[ns]', freq='H')\n",
    "              ```"
   ]
  },
  {
   "cell_type": "code",
   "execution_count": 140,
   "metadata": {},
   "outputs": [],
   "source": [
    "dat1h=pd.date_range(start='2021-01-01',periods=24,freq='H')"
   ]
  },
  {
   "cell_type": "code",
   "execution_count": 141,
   "metadata": {},
   "outputs": [
    {
     "data": {
      "text/plain": [
       "DatetimeIndex(['2021-01-01 00:00:00', '2021-01-01 01:00:00',\n",
       "               '2021-01-01 02:00:00', '2021-01-01 03:00:00',\n",
       "               '2021-01-01 04:00:00', '2021-01-01 05:00:00',\n",
       "               '2021-01-01 06:00:00', '2021-01-01 07:00:00',\n",
       "               '2021-01-01 08:00:00', '2021-01-01 09:00:00',\n",
       "               '2021-01-01 10:00:00', '2021-01-01 11:00:00',\n",
       "               '2021-01-01 12:00:00', '2021-01-01 13:00:00',\n",
       "               '2021-01-01 14:00:00', '2021-01-01 15:00:00',\n",
       "               '2021-01-01 16:00:00', '2021-01-01 17:00:00',\n",
       "               '2021-01-01 18:00:00', '2021-01-01 19:00:00',\n",
       "               '2021-01-01 20:00:00', '2021-01-01 21:00:00',\n",
       "               '2021-01-01 22:00:00', '2021-01-01 23:00:00'],\n",
       "              dtype='datetime64[ns]', freq='H')"
      ]
     },
     "execution_count": 141,
     "metadata": {},
     "output_type": "execute_result"
    }
   ],
   "source": [
    "dat1h"
   ]
  },
  {
   "cell_type": "markdown",
   "metadata": {},
   "source": [
    "### create the following dataframe and print to the console"
   ]
  },
  {
   "cell_type": "markdown",
   "metadata": {},
   "source": [
    "| |day|day_of_year|\n",
    "|---|---|---|\n",
    "|0|2021-03-01|60|\n",
    "1  |2021-03-02|           61\n",
    "2  |2021-03-03|           62\n",
    "3  |2021-03-04|          63\n",
    "4  |2021-03-05|           64\n",
    "5  |2021-03-06|           65\n",
    "6  |2021-03-07|           66\n",
    "7  |2021-03-08|           67\n",
    "8  |2021-03-09|           68\n",
    "9  |2021-03-10|           69\n",
    "10 |2021-03-11|           70\n",
    "11 |2021-03-12|           71\n",
    "12 |2021-03-13|           72\n",
    "13 |2021-03-14|           73\n",
    "14 |2021-03-15|           74\n",
    "15 |2021-03-16|           75\n",
    "16 |2021-03-17|           76\n",
    "17 |2021-03-18|           77\n",
    "18 |2021-03-19|           78\n",
    "19 |2021-03-20|           79\n",
    "20 |2021-03-21|           80\n",
    "21 |2021-03-22|           81\n",
    "22 |2021-03-23|           82\n",
    "23 |2021-03-24|           83\n",
    "24 |2021-03-25|           84\n",
    "25 |2021-03-26|           85\n",
    "26 |2021-03-27|           86\n",
    "27 |2021-03-28|           87\n",
    "28 |2021-03-29|           88\n",
    "29 |2021-03-30|          89\n",
    "30 |2021-03-31|           90"
   ]
  },
  {
   "cell_type": "code",
   "execution_count": 160,
   "metadata": {},
   "outputs": [],
   "source": [
    "day=pd.date_range(start='2021-03-01',periods=31).to_series()"
   ]
  },
  {
   "cell_type": "code",
   "execution_count": 179,
   "metadata": {},
   "outputs": [],
   "source": [
    "day_of_year=day.dt.dayofyear\n",
    "s=pd.Series(day_of_year)"
   ]
  },
  {
   "cell_type": "code",
   "execution_count": 180,
   "metadata": {},
   "outputs": [
    {
     "data": {
      "text/plain": [
       "2021-03-01    60\n",
       "2021-03-02    61\n",
       "2021-03-03    62\n",
       "2021-03-04    63\n",
       "2021-03-05    64\n",
       "2021-03-06    65\n",
       "2021-03-07    66\n",
       "2021-03-08    67\n",
       "2021-03-09    68\n",
       "2021-03-10    69\n",
       "2021-03-11    70\n",
       "2021-03-12    71\n",
       "2021-03-13    72\n",
       "2021-03-14    73\n",
       "2021-03-15    74\n",
       "2021-03-16    75\n",
       "2021-03-17    76\n",
       "2021-03-18    77\n",
       "2021-03-19    78\n",
       "2021-03-20    79\n",
       "2021-03-21    80\n",
       "2021-03-22    81\n",
       "2021-03-23    82\n",
       "2021-03-24    83\n",
       "2021-03-25    84\n",
       "2021-03-26    85\n",
       "2021-03-27    86\n",
       "2021-03-28    87\n",
       "2021-03-29    88\n",
       "2021-03-30    89\n",
       "2021-03-31    90\n",
       "Freq: D, dtype: int64"
      ]
     },
     "execution_count": 180,
     "metadata": {},
     "output_type": "execute_result"
    }
   ],
   "source": [
    "s"
   ]
  },
  {
   "cell_type": "code",
   "execution_count": 191,
   "metadata": {},
   "outputs": [
    {
     "data": {
      "text/html": [
       "<div>\n",
       "<style scoped>\n",
       "    .dataframe tbody tr th:only-of-type {\n",
       "        vertical-align: middle;\n",
       "    }\n",
       "\n",
       "    .dataframe tbody tr th {\n",
       "        vertical-align: top;\n",
       "    }\n",
       "\n",
       "    .dataframe thead th {\n",
       "        text-align: right;\n",
       "    }\n",
       "</style>\n",
       "<table border=\"1\" class=\"dataframe\">\n",
       "  <thead>\n",
       "    <tr style=\"text-align: right;\">\n",
       "      <th></th>\n",
       "      <th>0</th>\n",
       "    </tr>\n",
       "  </thead>\n",
       "  <tbody>\n",
       "    <tr>\n",
       "      <th>2021-03-01</th>\n",
       "      <td>60</td>\n",
       "    </tr>\n",
       "    <tr>\n",
       "      <th>2021-03-02</th>\n",
       "      <td>61</td>\n",
       "    </tr>\n",
       "    <tr>\n",
       "      <th>2021-03-03</th>\n",
       "      <td>62</td>\n",
       "    </tr>\n",
       "    <tr>\n",
       "      <th>2021-03-04</th>\n",
       "      <td>63</td>\n",
       "    </tr>\n",
       "    <tr>\n",
       "      <th>2021-03-05</th>\n",
       "      <td>64</td>\n",
       "    </tr>\n",
       "    <tr>\n",
       "      <th>2021-03-06</th>\n",
       "      <td>65</td>\n",
       "    </tr>\n",
       "    <tr>\n",
       "      <th>2021-03-07</th>\n",
       "      <td>66</td>\n",
       "    </tr>\n",
       "    <tr>\n",
       "      <th>2021-03-08</th>\n",
       "      <td>67</td>\n",
       "    </tr>\n",
       "    <tr>\n",
       "      <th>2021-03-09</th>\n",
       "      <td>68</td>\n",
       "    </tr>\n",
       "    <tr>\n",
       "      <th>2021-03-10</th>\n",
       "      <td>69</td>\n",
       "    </tr>\n",
       "    <tr>\n",
       "      <th>2021-03-11</th>\n",
       "      <td>70</td>\n",
       "    </tr>\n",
       "    <tr>\n",
       "      <th>2021-03-12</th>\n",
       "      <td>71</td>\n",
       "    </tr>\n",
       "    <tr>\n",
       "      <th>2021-03-13</th>\n",
       "      <td>72</td>\n",
       "    </tr>\n",
       "    <tr>\n",
       "      <th>2021-03-14</th>\n",
       "      <td>73</td>\n",
       "    </tr>\n",
       "    <tr>\n",
       "      <th>2021-03-15</th>\n",
       "      <td>74</td>\n",
       "    </tr>\n",
       "    <tr>\n",
       "      <th>2021-03-16</th>\n",
       "      <td>75</td>\n",
       "    </tr>\n",
       "    <tr>\n",
       "      <th>2021-03-17</th>\n",
       "      <td>76</td>\n",
       "    </tr>\n",
       "    <tr>\n",
       "      <th>2021-03-18</th>\n",
       "      <td>77</td>\n",
       "    </tr>\n",
       "    <tr>\n",
       "      <th>2021-03-19</th>\n",
       "      <td>78</td>\n",
       "    </tr>\n",
       "    <tr>\n",
       "      <th>2021-03-20</th>\n",
       "      <td>79</td>\n",
       "    </tr>\n",
       "    <tr>\n",
       "      <th>2021-03-21</th>\n",
       "      <td>80</td>\n",
       "    </tr>\n",
       "    <tr>\n",
       "      <th>2021-03-22</th>\n",
       "      <td>81</td>\n",
       "    </tr>\n",
       "    <tr>\n",
       "      <th>2021-03-23</th>\n",
       "      <td>82</td>\n",
       "    </tr>\n",
       "    <tr>\n",
       "      <th>2021-03-24</th>\n",
       "      <td>83</td>\n",
       "    </tr>\n",
       "    <tr>\n",
       "      <th>2021-03-25</th>\n",
       "      <td>84</td>\n",
       "    </tr>\n",
       "    <tr>\n",
       "      <th>2021-03-26</th>\n",
       "      <td>85</td>\n",
       "    </tr>\n",
       "    <tr>\n",
       "      <th>2021-03-27</th>\n",
       "      <td>86</td>\n",
       "    </tr>\n",
       "    <tr>\n",
       "      <th>2021-03-28</th>\n",
       "      <td>87</td>\n",
       "    </tr>\n",
       "    <tr>\n",
       "      <th>2021-03-29</th>\n",
       "      <td>88</td>\n",
       "    </tr>\n",
       "    <tr>\n",
       "      <th>2021-03-30</th>\n",
       "      <td>89</td>\n",
       "    </tr>\n",
       "    <tr>\n",
       "      <th>2021-03-31</th>\n",
       "      <td>90</td>\n",
       "    </tr>\n",
       "  </tbody>\n",
       "</table>\n",
       "</div>"
      ],
      "text/plain": [
       "             0\n",
       "2021-03-01  60\n",
       "2021-03-02  61\n",
       "2021-03-03  62\n",
       "2021-03-04  63\n",
       "2021-03-05  64\n",
       "2021-03-06  65\n",
       "2021-03-07  66\n",
       "2021-03-08  67\n",
       "2021-03-09  68\n",
       "2021-03-10  69\n",
       "2021-03-11  70\n",
       "2021-03-12  71\n",
       "2021-03-13  72\n",
       "2021-03-14  73\n",
       "2021-03-15  74\n",
       "2021-03-16  75\n",
       "2021-03-17  76\n",
       "2021-03-18  77\n",
       "2021-03-19  78\n",
       "2021-03-20  79\n",
       "2021-03-21  80\n",
       "2021-03-22  81\n",
       "2021-03-23  82\n",
       "2021-03-24  83\n",
       "2021-03-25  84\n",
       "2021-03-26  85\n",
       "2021-03-27  86\n",
       "2021-03-28  87\n",
       "2021-03-29  88\n",
       "2021-03-30  89\n",
       "2021-03-31  90"
      ]
     },
     "execution_count": 191,
     "metadata": {},
     "output_type": "execute_result"
    }
   ],
   "source": [
    "dfdt=pd.DataFrame(s)\n",
    "dfdt"
   ]
  },
  {
   "cell_type": "code",
   "execution_count": 192,
   "metadata": {},
   "outputs": [],
   "source": [
    "dfdt=dfdt.reset_index()\n",
    "dfdt.rename(columns={'index':'day',0:'day_of_year'},inplace=True)"
   ]
  },
  {
   "cell_type": "code",
   "execution_count": 193,
   "metadata": {},
   "outputs": [
    {
     "data": {
      "text/html": [
       "<div>\n",
       "<style scoped>\n",
       "    .dataframe tbody tr th:only-of-type {\n",
       "        vertical-align: middle;\n",
       "    }\n",
       "\n",
       "    .dataframe tbody tr th {\n",
       "        vertical-align: top;\n",
       "    }\n",
       "\n",
       "    .dataframe thead th {\n",
       "        text-align: right;\n",
       "    }\n",
       "</style>\n",
       "<table border=\"1\" class=\"dataframe\">\n",
       "  <thead>\n",
       "    <tr style=\"text-align: right;\">\n",
       "      <th></th>\n",
       "      <th>day</th>\n",
       "      <th>day_of_year</th>\n",
       "    </tr>\n",
       "  </thead>\n",
       "  <tbody>\n",
       "    <tr>\n",
       "      <th>0</th>\n",
       "      <td>2021-03-01</td>\n",
       "      <td>60</td>\n",
       "    </tr>\n",
       "    <tr>\n",
       "      <th>1</th>\n",
       "      <td>2021-03-02</td>\n",
       "      <td>61</td>\n",
       "    </tr>\n",
       "    <tr>\n",
       "      <th>2</th>\n",
       "      <td>2021-03-03</td>\n",
       "      <td>62</td>\n",
       "    </tr>\n",
       "    <tr>\n",
       "      <th>3</th>\n",
       "      <td>2021-03-04</td>\n",
       "      <td>63</td>\n",
       "    </tr>\n",
       "    <tr>\n",
       "      <th>4</th>\n",
       "      <td>2021-03-05</td>\n",
       "      <td>64</td>\n",
       "    </tr>\n",
       "    <tr>\n",
       "      <th>5</th>\n",
       "      <td>2021-03-06</td>\n",
       "      <td>65</td>\n",
       "    </tr>\n",
       "    <tr>\n",
       "      <th>6</th>\n",
       "      <td>2021-03-07</td>\n",
       "      <td>66</td>\n",
       "    </tr>\n",
       "    <tr>\n",
       "      <th>7</th>\n",
       "      <td>2021-03-08</td>\n",
       "      <td>67</td>\n",
       "    </tr>\n",
       "    <tr>\n",
       "      <th>8</th>\n",
       "      <td>2021-03-09</td>\n",
       "      <td>68</td>\n",
       "    </tr>\n",
       "    <tr>\n",
       "      <th>9</th>\n",
       "      <td>2021-03-10</td>\n",
       "      <td>69</td>\n",
       "    </tr>\n",
       "    <tr>\n",
       "      <th>10</th>\n",
       "      <td>2021-03-11</td>\n",
       "      <td>70</td>\n",
       "    </tr>\n",
       "    <tr>\n",
       "      <th>11</th>\n",
       "      <td>2021-03-12</td>\n",
       "      <td>71</td>\n",
       "    </tr>\n",
       "    <tr>\n",
       "      <th>12</th>\n",
       "      <td>2021-03-13</td>\n",
       "      <td>72</td>\n",
       "    </tr>\n",
       "    <tr>\n",
       "      <th>13</th>\n",
       "      <td>2021-03-14</td>\n",
       "      <td>73</td>\n",
       "    </tr>\n",
       "    <tr>\n",
       "      <th>14</th>\n",
       "      <td>2021-03-15</td>\n",
       "      <td>74</td>\n",
       "    </tr>\n",
       "    <tr>\n",
       "      <th>15</th>\n",
       "      <td>2021-03-16</td>\n",
       "      <td>75</td>\n",
       "    </tr>\n",
       "    <tr>\n",
       "      <th>16</th>\n",
       "      <td>2021-03-17</td>\n",
       "      <td>76</td>\n",
       "    </tr>\n",
       "    <tr>\n",
       "      <th>17</th>\n",
       "      <td>2021-03-18</td>\n",
       "      <td>77</td>\n",
       "    </tr>\n",
       "    <tr>\n",
       "      <th>18</th>\n",
       "      <td>2021-03-19</td>\n",
       "      <td>78</td>\n",
       "    </tr>\n",
       "    <tr>\n",
       "      <th>19</th>\n",
       "      <td>2021-03-20</td>\n",
       "      <td>79</td>\n",
       "    </tr>\n",
       "    <tr>\n",
       "      <th>20</th>\n",
       "      <td>2021-03-21</td>\n",
       "      <td>80</td>\n",
       "    </tr>\n",
       "    <tr>\n",
       "      <th>21</th>\n",
       "      <td>2021-03-22</td>\n",
       "      <td>81</td>\n",
       "    </tr>\n",
       "    <tr>\n",
       "      <th>22</th>\n",
       "      <td>2021-03-23</td>\n",
       "      <td>82</td>\n",
       "    </tr>\n",
       "    <tr>\n",
       "      <th>23</th>\n",
       "      <td>2021-03-24</td>\n",
       "      <td>83</td>\n",
       "    </tr>\n",
       "    <tr>\n",
       "      <th>24</th>\n",
       "      <td>2021-03-25</td>\n",
       "      <td>84</td>\n",
       "    </tr>\n",
       "    <tr>\n",
       "      <th>25</th>\n",
       "      <td>2021-03-26</td>\n",
       "      <td>85</td>\n",
       "    </tr>\n",
       "    <tr>\n",
       "      <th>26</th>\n",
       "      <td>2021-03-27</td>\n",
       "      <td>86</td>\n",
       "    </tr>\n",
       "    <tr>\n",
       "      <th>27</th>\n",
       "      <td>2021-03-28</td>\n",
       "      <td>87</td>\n",
       "    </tr>\n",
       "    <tr>\n",
       "      <th>28</th>\n",
       "      <td>2021-03-29</td>\n",
       "      <td>88</td>\n",
       "    </tr>\n",
       "    <tr>\n",
       "      <th>29</th>\n",
       "      <td>2021-03-30</td>\n",
       "      <td>89</td>\n",
       "    </tr>\n",
       "    <tr>\n",
       "      <th>30</th>\n",
       "      <td>2021-03-31</td>\n",
       "      <td>90</td>\n",
       "    </tr>\n",
       "  </tbody>\n",
       "</table>\n",
       "</div>"
      ],
      "text/plain": [
       "          day  day_of_year\n",
       "0  2021-03-01           60\n",
       "1  2021-03-02           61\n",
       "2  2021-03-03           62\n",
       "3  2021-03-04           63\n",
       "4  2021-03-05           64\n",
       "5  2021-03-06           65\n",
       "6  2021-03-07           66\n",
       "7  2021-03-08           67\n",
       "8  2021-03-09           68\n",
       "9  2021-03-10           69\n",
       "10 2021-03-11           70\n",
       "11 2021-03-12           71\n",
       "12 2021-03-13           72\n",
       "13 2021-03-14           73\n",
       "14 2021-03-15           74\n",
       "15 2021-03-16           75\n",
       "16 2021-03-17           76\n",
       "17 2021-03-18           77\n",
       "18 2021-03-19           78\n",
       "19 2021-03-20           79\n",
       "20 2021-03-21           80\n",
       "21 2021-03-22           81\n",
       "22 2021-03-23           82\n",
       "23 2021-03-24           83\n",
       "24 2021-03-25           84\n",
       "25 2021-03-26           85\n",
       "26 2021-03-27           86\n",
       "27 2021-03-28           87\n",
       "28 2021-03-29           88\n",
       "29 2021-03-30           89\n",
       "30 2021-03-31           90"
      ]
     },
     "execution_count": 193,
     "metadata": {},
     "output_type": "execute_result"
    }
   ],
   "source": [
    "dfdt"
   ]
  },
  {
   "cell_type": "markdown",
   "metadata": {},
   "source": [
    "### create the following dataframe from the given dictionaries and set the index date from jan 01,2020 and print to the console"
   ]
  },
  {
   "cell_type": "markdown",
   "metadata": {},
   "source": [
    "| |normal|   uniform|  binomial|\n",
    "|---|---|---|---|\n",
    "|2020-01-01|  0.496714|  0.167483 |        0\n",
    "|2020-01-02| -0.138264|  0.104568|         0\n",
    "|2020-01-03|  0.647689|  0.636430|         0\n",
    "|2020-01-04|  1.523030|  0.706476|         0\n",
    "|2020-01-05| -0.234153|  0.031586|         1\n",
    "| |...|...|...|...\n",
    "|2022-09-22| -0.281100|  0.280683|         1\n",
    "|2022-09-23|  1.797687|  0.206993|         0\n",
    "|2022-09-24|  0.640843|  0.516573|         0\n",
    "|2022-09-25| -0.571179|  0.005506|         1\n",
    "|2022-09-26|  0.572583|  0.007664|         0\n",
    "\n",
    "[1000 rows x 3 columns]"
   ]
  },
  {
   "cell_type": "markdown",
   "metadata": {},
   "source": [
    "```\n",
    "np.random.seed(42)\n",
    "data_dict = {\n",
    "    'normal': np.random.normal(loc=0, scale=1, size=1000),\n",
    "    'uniform': np.random.uniform(low=0, high=1, size=1000),\n",
    "    'binomial': np.random.binomial(n=1, p=0.2, size=1000)\n",
    "}\n",
    "```"
   ]
  },
  {
   "cell_type": "code",
   "execution_count": 195,
   "metadata": {},
   "outputs": [],
   "source": [
    "np.random.seed(42)\n",
    "data_dict = {\n",
    "    'normal': np.random.normal(loc=0, scale=1, size=1000),\n",
    "    'uniform': np.random.uniform(low=0, high=1, size=1000),\n",
    "    'binomial': np.random.binomial(n=1, p=0.2, size=1000)\n",
    "}"
   ]
  },
  {
   "cell_type": "code",
   "execution_count": 196,
   "metadata": {},
   "outputs": [
    {
     "data": {
      "text/plain": [
       "{'normal': array([ 4.96714153e-01, -1.38264301e-01,  6.47688538e-01,  1.52302986e+00,\n",
       "        -2.34153375e-01, -2.34136957e-01,  1.57921282e+00,  7.67434729e-01,\n",
       "        -4.69474386e-01,  5.42560044e-01, -4.63417693e-01, -4.65729754e-01,\n",
       "         2.41962272e-01, -1.91328024e+00, -1.72491783e+00, -5.62287529e-01,\n",
       "        -1.01283112e+00,  3.14247333e-01, -9.08024076e-01, -1.41230370e+00,\n",
       "         1.46564877e+00, -2.25776300e-01,  6.75282047e-02, -1.42474819e+00,\n",
       "        -5.44382725e-01,  1.10922590e-01, -1.15099358e+00,  3.75698018e-01,\n",
       "        -6.00638690e-01, -2.91693750e-01, -6.01706612e-01,  1.85227818e+00,\n",
       "        -1.34972247e-02, -1.05771093e+00,  8.22544912e-01, -1.22084365e+00,\n",
       "         2.08863595e-01, -1.95967012e+00, -1.32818605e+00,  1.96861236e-01,\n",
       "         7.38466580e-01,  1.71368281e-01, -1.15648282e-01, -3.01103696e-01,\n",
       "        -1.47852199e+00, -7.19844208e-01, -4.60638771e-01,  1.05712223e+00,\n",
       "         3.43618290e-01, -1.76304016e+00,  3.24083969e-01, -3.85082280e-01,\n",
       "        -6.76922000e-01,  6.11676289e-01,  1.03099952e+00,  9.31280119e-01,\n",
       "        -8.39217523e-01, -3.09212376e-01,  3.31263431e-01,  9.75545127e-01,\n",
       "        -4.79174238e-01, -1.85658977e-01, -1.10633497e+00, -1.19620662e+00,\n",
       "         8.12525822e-01,  1.35624003e+00, -7.20101216e-02,  1.00353290e+00,\n",
       "         3.61636025e-01, -6.45119755e-01,  3.61395606e-01,  1.53803657e+00,\n",
       "        -3.58260391e-02,  1.56464366e+00, -2.61974510e+00,  8.21902504e-01,\n",
       "         8.70470682e-02, -2.99007350e-01,  9.17607765e-02, -1.98756891e+00,\n",
       "        -2.19671888e-01,  3.57112572e-01,  1.47789404e+00, -5.18270218e-01,\n",
       "        -8.08493603e-01, -5.01757044e-01,  9.15402118e-01,  3.28751110e-01,\n",
       "        -5.29760204e-01,  5.13267433e-01,  9.70775493e-02,  9.68644991e-01,\n",
       "        -7.02053094e-01, -3.27662147e-01, -3.92108153e-01, -1.46351495e+00,\n",
       "         2.96120277e-01,  2.61055272e-01,  5.11345664e-03, -2.34587133e-01,\n",
       "        -1.41537074e+00, -4.20645323e-01, -3.42714517e-01, -8.02277269e-01,\n",
       "        -1.61285712e-01,  4.04050857e-01,  1.88618590e+00,  1.74577813e-01,\n",
       "         2.57550391e-01, -7.44459158e-02, -1.91877122e+00, -2.65138754e-02,\n",
       "         6.02302099e-02,  2.46324211e+00, -1.92360965e-01,  3.01547342e-01,\n",
       "        -3.47117697e-02, -1.16867804e+00,  1.14282281e+00,  7.51933033e-01,\n",
       "         7.91031947e-01, -9.09387455e-01,  1.40279431e+00, -1.40185106e+00,\n",
       "         5.86857094e-01,  2.19045563e+00, -9.90536325e-01, -5.66297730e-01,\n",
       "         9.96513651e-02, -5.03475654e-01, -1.55066343e+00,  6.85629748e-02,\n",
       "        -1.06230371e+00,  4.73592431e-01, -9.19424234e-01,  1.54993441e+00,\n",
       "        -7.83253292e-01, -3.22061516e-01,  8.13517217e-01, -1.23086432e+00,\n",
       "         2.27459935e-01,  1.30714275e+00, -1.60748323e+00,  1.84633859e-01,\n",
       "         2.59882794e-01,  7.81822872e-01, -1.23695071e+00, -1.32045661e+00,\n",
       "         5.21941566e-01,  2.96984673e-01,  2.50492850e-01,  3.46448209e-01,\n",
       "        -6.80024722e-01,  2.32253697e-01,  2.93072473e-01, -7.14351418e-01,\n",
       "         1.86577451e+00,  4.73832921e-01, -1.19130350e+00,  6.56553609e-01,\n",
       "        -9.74681670e-01,  7.87084604e-01,  1.15859558e+00, -8.20682318e-01,\n",
       "         9.63376129e-01,  4.12780927e-01,  8.22060160e-01,  1.89679298e+00,\n",
       "        -2.45388116e-01, -7.53736164e-01, -8.89514430e-01, -8.15810285e-01,\n",
       "        -7.71017094e-02,  3.41151975e-01,  2.76690799e-01,  8.27183249e-01,\n",
       "         1.30018919e-02,  1.45353408e+00, -2.64656833e-01,  2.72016917e+00,\n",
       "         6.25667348e-01, -8.57157556e-01, -1.07089250e+00,  4.82472415e-01,\n",
       "        -2.23462785e-01,  7.14000494e-01,  4.73237625e-01, -7.28289127e-02,\n",
       "        -8.46793718e-01, -1.51484722e+00, -4.46514952e-01,  8.56398794e-01,\n",
       "         2.14093744e-01, -1.24573878e+00,  1.73180926e-01,  3.85317380e-01,\n",
       "        -8.83857436e-01,  1.53725106e-01,  5.82087184e-02, -1.14297030e+00,\n",
       "         3.57787360e-01,  5.60784526e-01,  1.08305124e+00,  1.05380205e+00,\n",
       "        -1.37766937e+00, -9.37825040e-01,  5.15035267e-01,  5.13785951e-01,\n",
       "         5.15047686e-01,  3.85273149e+00,  5.70890511e-01,  1.13556564e+00,\n",
       "         9.54001763e-01,  6.51391251e-01, -3.15269245e-01,  7.58969220e-01,\n",
       "        -7.72825215e-01, -2.36818607e-01, -4.85363548e-01,  8.18741394e-02,\n",
       "         2.31465857e+00, -1.86726519e+00,  6.86260190e-01, -1.61271587e+00,\n",
       "        -4.71931866e-01,  1.08895060e+00,  6.42800191e-02, -1.07774478e+00,\n",
       "        -7.15303709e-01,  6.79597749e-01, -7.30366632e-01,  2.16458590e-01,\n",
       "         4.55718399e-02, -6.51600348e-01,  2.14394409e+00,  6.33919022e-01,\n",
       "        -2.02514259e+00,  1.86454315e-01, -6.61786465e-01,  8.52433335e-01,\n",
       "        -7.92520738e-01, -1.14736441e-01,  5.04987279e-01,  8.65755194e-01,\n",
       "        -1.20029641e+00, -3.34501236e-01, -4.74945311e-01, -6.53329233e-01,\n",
       "         1.76545424e+00,  4.04981711e-01, -1.26088395e+00,  9.17861947e-01,\n",
       "         2.12215620e+00,  1.03246526e+00, -1.51936997e+00, -4.84234073e-01,\n",
       "         1.26691115e+00, -7.07669466e-01,  4.43819428e-01,  7.74634053e-01,\n",
       "        -9.26930472e-01, -5.95253561e-02, -3.24126734e+00, -1.02438764e+00,\n",
       "        -2.52568151e-01, -1.24778318e+00,  1.63241130e+00, -1.43014138e+00,\n",
       "        -4.40044487e-01,  1.30740577e-01,  1.44127329e+00, -1.43586215e+00,\n",
       "         1.16316375e+00,  1.02330610e-02, -9.81508651e-01,  4.62103474e-01,\n",
       "         1.99059696e-01, -6.00216877e-01,  6.98020850e-02, -3.85313597e-01,\n",
       "         1.13517345e-01,  6.62130675e-01,  1.58601682e+00, -1.23781550e+00,\n",
       "         2.13303337e+00, -1.95208780e+00, -1.51785095e-01,  5.88317206e-01,\n",
       "         2.80991868e-01, -6.22699520e-01, -2.08122250e-01, -4.93000935e-01,\n",
       "        -5.89364757e-01,  8.49602097e-01,  3.57015486e-01, -6.92909595e-01,\n",
       "         8.99599875e-01,  3.07299521e-01,  8.12862119e-01,  6.29628842e-01,\n",
       "        -8.28995011e-01, -5.60181040e-01,  7.47293605e-01,  6.10370265e-01,\n",
       "        -2.09015940e-02,  1.17327383e-01,  1.27766490e+00, -5.91571389e-01,\n",
       "         5.47097381e-01, -2.02192652e-01, -2.17681203e-01,  1.09877685e+00,\n",
       "         8.25416349e-01,  8.13509636e-01,  1.30547881e+00,  2.10038416e-02,\n",
       "         6.81952971e-01, -3.10266757e-01,  3.24166352e-01, -1.30143054e-01,\n",
       "         9.69959650e-02,  5.95157025e-01, -8.18220683e-01,  2.09238728e+00,\n",
       "        -1.00601738e+00, -1.21418861e+00,  1.15811087e+00,  7.91662694e-01,\n",
       "         6.24119817e-01,  6.28345509e-01, -1.22467728e-02, -8.97254371e-01,\n",
       "         7.58045582e-02, -6.77161712e-01,  9.75119733e-01, -1.47057382e-01,\n",
       "        -8.25497197e-01, -3.21385842e-01,  4.12931454e-01, -5.63724553e-01,\n",
       "        -8.22220396e-01,  2.43687211e-01,  2.44966571e-01, -5.06943175e-01,\n",
       "        -4.71038306e-01,  2.32049937e-01, -1.44808434e+00, -1.40746377e+00,\n",
       "        -7.18444221e-01, -2.13447152e-01,  3.10907566e-01,  1.47535622e+00,\n",
       "         8.57659623e-01, -1.59938530e-01, -1.90162079e-02, -1.00252936e+00,\n",
       "        -1.85131360e-02, -2.88658639e-01,  3.22718560e-01, -8.27230944e-01,\n",
       "         5.19346514e-01,  1.53273891e+00, -1.08760148e-01,  4.01711722e-01,\n",
       "         6.90143992e-01, -4.01220472e-01,  2.24092482e-01,  1.25924008e-02,\n",
       "         9.76760985e-02, -7.73009784e-01,  2.45101743e-02,  4.97998291e-01,\n",
       "         1.45114361e+00,  9.59270826e-01,  2.15318246e+00, -7.67347563e-01,\n",
       "         8.72320637e-01,  1.83342006e-01,  2.18980293e+00, -8.08298285e-01,\n",
       "        -8.39721842e-01, -5.99392645e-01, -2.12389572e+00, -5.25755022e-01,\n",
       "        -7.59132662e-01,  1.50393786e-01,  3.41755976e-01,  1.87617084e+00,\n",
       "         9.50423838e-01, -5.76903656e-01, -8.98414671e-01,  4.91919172e-01,\n",
       "        -1.32023321e+00,  1.83145877e+00,  1.17944012e+00, -4.69175652e-01,\n",
       "        -1.71313453e+00,  1.35387237e+00, -1.14539845e-01,  1.23781631e+00,\n",
       "        -1.59442766e+00, -5.99375023e-01,  5.24369972e-03,  4.69805938e-02,\n",
       "        -4.50065471e-01,  6.22849932e-01, -1.06762043e+00, -1.42379485e-01,\n",
       "         1.20295632e-01,  5.14438834e-01,  7.11614878e-01, -1.12464209e+00,\n",
       "        -1.53411417e+00,  1.27767682e+00,  3.32314012e-01, -7.48486537e-01,\n",
       "         1.55115198e+00,  1.15674634e-01,  1.17929718e+00,  6.75184814e-02,\n",
       "         2.06074792e+00,  1.75534084e+00, -2.48964148e-01,  9.71570951e-01,\n",
       "         6.45375950e-01,  1.36863156e+00, -9.64923461e-01,  6.86051460e-01,\n",
       "         1.05842449e+00, -1.75873949e+00, -1.18325851e+00, -2.03923218e+00,\n",
       "        -2.69406834e-01,  7.17542256e-01,  1.50235705e+00,  7.40947804e-02,\n",
       "         1.62861555e+00, -1.38010146e+00, -1.70338244e+00, -5.55476989e-02,\n",
       "         3.84065449e-01, -3.26947481e-02, -2.06744210e+00, -8.91200395e-02,\n",
       "        -1.30446950e+00,  6.69672549e-01,  3.66598246e-01, -9.39879786e-01,\n",
       "        -5.13866917e-01, -1.05921352e+00, -6.26790973e-02,  9.55142321e-01,\n",
       "        -9.85726046e-01,  5.04046516e-01, -5.30257618e-01, -7.92872832e-01,\n",
       "        -1.07030360e-01, -1.03524232e+00, -5.53649305e-01, -1.19787789e+00,\n",
       "         1.96472513e+00,  3.52635520e-02, -6.99725508e-01,  2.13979911e-01,\n",
       "        -1.12328050e-01, -2.20969600e-01,  6.14166700e-01,  7.57507710e-01,\n",
       "        -5.30501148e-01, -5.75818241e-01, -2.75051697e-01, -2.30192116e+00,\n",
       "        -1.51519106e+00,  1.36687427e+00,  1.64496771e+00, -2.49036040e-01,\n",
       "         5.76556963e-01,  3.11250155e-01,  3.07888081e+00,  1.11957491e+00,\n",
       "        -1.27917591e-01, -9.55540441e-01, -1.60644632e+00,  2.03463636e-01,\n",
       "        -7.56350745e-01, -1.42225371e+00, -6.46572884e-01, -1.08154800e+00,\n",
       "         1.68714164e+00,  8.81639757e-01, -7.97264132e-03,  1.47994414e+00,\n",
       "         7.73683076e-02, -8.61284201e-01,  1.52312408e+00,  5.38910044e-01,\n",
       "        -1.03724615e+00, -1.90338678e-01, -8.75618253e-01, -1.38279973e+00,\n",
       "         9.26177548e-01,  1.90941664e+00, -1.39856757e+00,  5.62969237e-01,\n",
       "        -6.50642569e-01, -4.87125384e-01, -5.92393924e-01, -8.63990770e-01,\n",
       "         4.85216279e-02, -8.30950116e-01,  2.70456826e-01, -5.02381094e-02,\n",
       "        -2.38948047e-01, -9.07563662e-01, -5.76771331e-01,  7.55391226e-01,\n",
       "         5.00917188e-01, -9.77555245e-01,  9.93323054e-02,  7.51387123e-01,\n",
       "        -1.66940528e+00,  5.43360192e-01, -6.62623759e-01,  5.70598669e-01,\n",
       "        -7.63259157e-01, -1.80488210e+00, -1.62754244e+00,  4.80849467e-02,\n",
       "         2.59722502e-01, -9.04316625e-01,  6.38592459e-01, -1.66152006e+00,\n",
       "        -6.60797986e-02, -1.21101620e+00, -6.51836108e-01,  4.73986713e-02,\n",
       "        -8.60413365e-01, -3.84555544e-01,  1.00629281e+00, -5.76891870e-01,\n",
       "         8.35692112e-01, -1.12970685e+00,  5.29804178e-01,  1.44156862e+00,\n",
       "        -2.47164450e+00, -7.96895255e-01,  5.77072127e-01, -2.03045386e-01,\n",
       "         3.71145873e-01, -6.03985187e-01,  8.65897875e-02, -1.55677235e-01,\n",
       "         1.16778206e+00,  2.54420843e-01,  3.37602662e-01, -4.11876966e-01,\n",
       "        -4.87606224e-01, -4.32558188e-01,  3.94452142e-01, -4.20984481e-01,\n",
       "         2.89774857e-01,  2.07540080e+00,  8.71124703e-01, -3.26023532e-01,\n",
       "         1.20121392e+00, -4.08075373e-01, -2.03812454e+00, -1.00808631e+00,\n",
       "        -1.87079192e+00, -3.51513484e-01,  1.84183792e-02,  1.67643731e+00,\n",
       "         3.26927374e-01, -2.19100529e-01,  8.29405581e-01, -2.21113531e+00,\n",
       "         2.35614558e-01,  7.70865194e-01, -1.47858625e+00,  1.14375404e+00,\n",
       "         3.38496407e-01, -4.15287914e-01,  6.32781866e-01,  2.27069286e+00,\n",
       "         1.81866255e-01,  2.48220586e-01, -4.59360900e-01, -8.49844369e-01,\n",
       "         8.30335817e-01, -8.56083826e-01,  7.15662372e-02, -4.77657447e-01,\n",
       "         4.78979826e-01,  3.33662105e-01,  1.03753994e+00, -5.10016399e-01,\n",
       "        -2.69874935e-01, -9.78763716e-01, -4.44293260e-01,  3.77300493e-01,\n",
       "         7.56988617e-01, -9.22165324e-01,  8.69605920e-01,  1.35563786e+00,\n",
       "         4.13434903e-01,  1.87679581e+00, -7.73789199e-01, -1.24465470e+00,\n",
       "        -1.77872025e+00,  1.49604431e+00,  6.54365656e-01, -5.55846709e-02,\n",
       "         2.79968626e-01, -1.12548905e+00,  2.44575198e+00,  1.29221182e-01,\n",
       "         1.09394795e-01,  7.25766624e-01,  4.81009232e-01,  2.23884024e-01,\n",
       "        -7.90474455e-01,  4.71468357e-01,  1.88202450e+00,  1.34542005e+00,\n",
       "         1.59318663e+00, -5.11215676e-01, -9.89604820e-01, -1.25786920e-01,\n",
       "         5.57249123e-02,  1.09419152e+00, -1.69246463e+00,  1.52955032e+00,\n",
       "        -1.58007899e-01, -4.26881070e-01, -1.01210438e+00, -1.65485667e+00,\n",
       "         8.23170584e-01,  7.33179672e-02, -1.28996090e+00, -1.29507877e+00,\n",
       "        -3.35784699e-01,  1.66902153e+00, -2.59591351e-01, -1.50314295e+00,\n",
       "        -2.45743064e-01, -2.72723570e-01, -2.69688664e+00, -5.42948665e-02,\n",
       "        -2.30934530e-01,  6.96206365e-01,  1.84895609e+00,  1.12656503e+00,\n",
       "        -2.68888691e-01, -1.10652591e+00,  2.57335980e+00,  5.92184340e-02,\n",
       "         1.39292919e-02, -2.41250871e-02,  1.98084761e-01, -1.44360412e-01,\n",
       "        -5.73662007e-01, -5.46858941e-01, -3.27532702e-02, -5.43424771e-01,\n",
       "        -7.12845783e-01,  1.06430228e-01, -2.54977217e-01,  1.50399299e+00,\n",
       "        -2.65096981e+00,  1.09150685e+00,  1.24608519e+00, -2.07339023e+00,\n",
       "        -3.42687594e-01, -3.71440866e-01, -1.40751169e+00, -7.77816688e-01,\n",
       "        -1.11057585e+00,  1.75227044e+00,  9.35678393e-01,  1.27155509e+00,\n",
       "         7.21672064e-01, -1.12905177e+00, -5.24520266e-01,  4.89374561e-01,\n",
       "        -1.22212781e+00,  7.12998430e-01, -2.40325398e-01, -3.74820808e-01,\n",
       "         7.10959968e-01,  4.44263311e-01, -3.60966166e-01,  1.15932980e+00,\n",
       "        -1.08106333e+00,  6.15935607e-01,  5.93101258e-01, -3.09546439e-01,\n",
       "         3.26133022e-01, -1.25111358e+00,  9.24027019e-01, -1.84902136e-01,\n",
       "        -5.22723021e-01,  1.04900923e+00, -7.04343691e-01, -1.40846130e+00,\n",
       "        -1.55662917e+00,  6.06009951e-01, -1.28042935e+00,  1.75479418e+00,\n",
       "        -2.08192941e+00,  1.69645637e+00,  2.11017467e-01, -9.67131119e-02,\n",
       "        -5.44919087e-01,  3.99136114e-01, -3.76347024e-02,  1.10330188e+00,\n",
       "         1.14227649e-01,  1.50301761e-01, -3.63612212e-01, -5.69456237e-02,\n",
       "         3.07801769e-01, -1.71016839e+00, -1.34818542e+00,  7.43264094e-01,\n",
       "         1.70865438e-01, -1.83983336e-01,  1.84339331e-02,  3.47581705e-01,\n",
       "        -5.39759680e-01, -7.78304725e-01,  1.95845255e-01, -9.78372778e-01,\n",
       "         4.08252756e-01, -1.70258360e+00,  1.02915564e+00,  4.72597482e-01,\n",
       "         2.56029734e-01,  9.82690984e-01,  1.66547444e+00,  1.01437007e+00,\n",
       "        -1.84087423e+00, -1.27957697e+00, -6.24818578e-01,  2.60910502e-02,\n",
       "         5.17659020e-01, -7.25743813e-01,  1.86766764e-01, -7.55382932e-01,\n",
       "        -6.11517803e-01, -1.40666110e+00, -9.23233246e-01, -1.35168461e+00,\n",
       "        -9.75873253e-01,  1.05364180e+00, -9.49398889e-01,  2.63238206e+00,\n",
       "         4.93317901e-01,  1.84836124e-01, -8.58357780e-01,  7.00309879e-01,\n",
       "        -5.75637826e-01,  1.22009815e-01,  2.56008454e+00, -9.60598997e-02,\n",
       "         1.14927333e+00, -7.03176425e-01, -3.49884905e-02,  1.77080064e+00,\n",
       "        -6.26967058e-01,  1.81244856e+00,  7.07751935e-01, -5.62466776e-01,\n",
       "         6.32407739e-01,  9.72554450e-01,  6.21809962e-01, -1.57022472e+00,\n",
       "        -7.27137176e-01, -2.47518636e-01, -7.44334291e-02,  6.20672098e-01,\n",
       "         1.77701001e-01, -1.33534436e+00,  3.80197851e-01,  6.10585745e-01,\n",
       "         5.59790448e-01,  1.08078073e+00,  8.33922155e-01,  4.59180079e-01,\n",
       "        -7.01657115e-02, -1.66096093e+00,  4.29618219e-01,  2.07687687e-01,\n",
       "         2.71578837e-01, -1.27674858e+00, -1.08105654e+00,  1.05315285e+00,\n",
       "        -3.95551539e-02,  6.81500697e-01,  2.83183761e-02,  2.97561395e-02,\n",
       "         9.38283806e-01, -5.16044728e-01,  9.61207769e-02, -4.62275289e-01,\n",
       "        -4.34496227e-01, -3.09172123e-01,  2.22133772e-01, -4.78748622e-01,\n",
       "         1.25575613e+00, -8.94607302e-01, -1.86871644e-01, -4.39731058e-01,\n",
       "         1.44697788e+00,  1.96554777e-01,  1.03184454e+00, -1.48556037e+00,\n",
       "         2.67050266e-01,  8.89630796e-01,  8.22839893e-02,  1.06548038e+00,\n",
       "        -5.17288450e-01,  1.40934744e+00,  2.29889812e+00, -3.62838560e-01,\n",
       "        -4.45502521e-01,  1.45338448e+00,  1.57957215e+00, -5.22860027e-01,\n",
       "        -4.20186817e-01, -2.81784609e-01, -1.34445051e+00, -9.18651946e-01,\n",
       "        -1.00414077e+00, -7.67797565e-01, -3.46848874e-02,  2.34214733e-01,\n",
       "         1.55050049e+00, -9.98354041e-01,  9.84322398e-01, -2.13988844e-01,\n",
       "        -4.94637097e-02,  6.74819492e-01, -1.12272202e+00,  3.82409746e-01,\n",
       "         1.66452208e-01,  4.92451264e-01,  2.89168644e-01,  2.45530014e+00,\n",
       "        -6.37739984e-01, -5.30996955e-01, -6.23140526e-01, -5.55477119e-01,\n",
       "        -6.37387127e-01,  1.18901653e+00,  1.42050425e+00, -5.70746294e-01,\n",
       "        -8.32355573e-01,  4.71415556e-01, -5.52223044e-01,  6.32931818e-01,\n",
       "         2.02923021e-01, -1.51574411e+00,  1.54750520e+00,  1.79587767e+00,\n",
       "        -6.12788690e-01, -3.87701560e-01,  2.85865391e-01,  3.34456790e-01,\n",
       "         6.58544273e-01,  2.01020454e+00, -1.76947227e-01, -7.98297245e-01,\n",
       "        -1.37931923e+00, -7.30930040e-01, -3.31269729e-02,  1.79455786e+00,\n",
       "        -5.17611299e-01,  2.23787952e-01, -1.64228961e-02,  1.18839327e+00,\n",
       "         2.52693243e+00, -5.30868773e-01, -4.89439443e-01,  1.04416088e+00,\n",
       "         6.81891490e-01,  1.84670733e+00,  5.83928185e-01, -3.59292091e-01,\n",
       "         5.90654831e-01,  1.10870358e+00,  8.20482181e-01,  5.07274031e-01,\n",
       "         1.06667469e+00,  1.16929559e+00,  1.38215899e+00,  6.48709888e-01,\n",
       "        -1.67118080e-01,  1.46713686e-01,  1.20650897e+00, -8.16935671e-01,\n",
       "         3.68673309e-01, -3.93338812e-01,  2.87448229e-02,  1.27845186e+00,\n",
       "         1.91099068e-01,  4.64365482e-02, -1.35985614e+00,  7.46253566e-01,\n",
       "         6.45484181e-01,  2.16325472e+00, -3.07778235e-01,  2.19150328e-01,\n",
       "         2.49383684e-01,  1.57745328e+00, -9.52955324e-02,  2.79021526e-01,\n",
       "         6.07896510e-01,  1.86609123e-01, -4.46433615e-01,  1.94089993e-01,\n",
       "         1.07363175e+00, -1.02651530e+00,  1.32969674e-01, -7.00120815e-01,\n",
       "         1.19504663e+00, -1.52318690e+00, -5.58921847e-01,  3.77211875e-01,\n",
       "         1.56552403e+00, -6.57502611e-02, -5.55199527e-01,  1.88115707e+00,\n",
       "        -1.44801390e+00, -2.19880596e+00,  4.40014450e-01, -5.02054224e-01,\n",
       "        -1.02123282e+00,  7.08356447e-01,  2.43800714e-01, -5.64078631e-01,\n",
       "        -1.28030440e+00,  8.72457328e-01,  6.50201178e-01, -9.91758638e-02,\n",
       "         1.84663700e+00, -1.07008477e+00, -1.52552517e+00, -6.91908070e-01,\n",
       "        -4.55860164e-02,  2.43339449e-01, -2.41236058e-01,  3.52055397e-01,\n",
       "        -1.25153942e+00,  1.44376460e+00, -8.21511784e-02,  1.11729583e+00,\n",
       "         3.42725346e-01,  4.56753219e-01,  5.69767280e-01,  4.47708560e-01,\n",
       "         6.42722760e-01,  1.32915253e+00,  1.96521170e-01,  7.09003758e-01,\n",
       "        -8.97356943e-02,  1.44011722e+00, -6.76392302e-01,  1.80094043e+00,\n",
       "        -4.01579506e-02, -1.43077510e+00,  1.28104415e-01, -6.81051657e-01,\n",
       "         8.40643549e-01, -6.52623979e-01, -4.46183433e-01, -1.88954073e+00,\n",
       "        -4.52306319e-01, -2.42387933e+00, -1.58390282e+00,  7.60414656e-01,\n",
       "         7.85800159e-01,  4.25457562e-01, -9.66976143e-01, -4.77113561e-02,\n",
       "        -3.60253909e-03, -1.15836469e+00,  1.50339830e+00,  8.77362291e-01,\n",
       "        -2.20964174e-01,  2.68858390e-02,  2.08382808e-01, -2.04173487e+00,\n",
       "        -2.47177383e-01, -6.81984248e-01, -1.00162001e+00, -2.81100293e-01,\n",
       "         1.79768653e+00,  6.40842861e-01, -5.71178990e-01,  5.72582781e-01]),\n",
       " 'uniform': array([0.16748258, 0.10456784, 0.63643025, 0.70647573, 0.03158614,\n",
       "        0.93621225, 0.05197128, 0.54129634, 0.70906052, 0.87096912,\n",
       "        0.71408693, 0.80172808, 0.33945019, 0.81482511, 0.08011485,\n",
       "        0.89481666, 0.54759238, 0.81729777, 0.45231828, 0.6435777 ,\n",
       "        0.52640266, 0.73158952, 0.08162998, 0.06035208, 0.24710323,\n",
       "        0.15954468, 0.87178357, 0.21921399, 0.97586526, 0.33689579,\n",
       "        0.18211792, 0.78969851, 0.65870778, 0.49819572, 0.55536355,\n",
       "        0.71920178, 0.22845474, 0.99633392, 0.97479316, 0.65032569,\n",
       "        0.19954245, 0.68022824, 0.07219841, 0.0306525 , 0.25768289,\n",
       "        0.46262296, 0.86827251, 0.72716907, 0.74270652, 0.42549333,\n",
       "        0.34593499, 0.37103876, 0.98764956, 0.04010919, 0.8670315 ,\n",
       "        0.57867541, 0.43861542, 0.72525766, 0.48666894, 0.87342324,\n",
       "        0.90070186, 0.42172093, 0.2768278 , 0.59235033, 0.91236335,\n",
       "        0.21066219, 0.62296658, 0.63156022, 0.73311302, 0.13156769,\n",
       "        0.71582496, 0.90903252, 0.17968311, 0.23754332, 0.97139509,\n",
       "        0.18097695, 0.85438509, 0.49227786, 0.24723107, 0.8707499 ,\n",
       "        0.44530526, 0.51481735, 0.35923337, 0.59295085, 0.16352387,\n",
       "        0.39108154, 0.96941232, 0.25813343, 0.65673666, 0.32519006,\n",
       "        0.77347313, 0.13087366, 0.96982105, 0.45378954, 0.23605046,\n",
       "        0.07349675, 0.16975791, 0.51977395, 0.33700318, 0.82888337,\n",
       "        0.43088752, 0.24871427, 0.61714499, 0.70677722, 0.16704191,\n",
       "        0.16761922, 0.03667143, 0.73640202, 0.66380453, 0.47463088,\n",
       "        0.84417045, 0.80567015, 0.58535436, 0.86827128, 0.20584121,\n",
       "        0.11191962, 0.26974961, 0.05708686, 0.53116953, 0.93660569,\n",
       "        0.03934354, 0.12210991, 0.45219903, 0.93387502, 0.3161561 ,\n",
       "        0.50723481, 0.04157286, 0.1483432 , 0.98663012, 0.9651187 ,\n",
       "        0.00493998, 0.95181179, 0.63911994, 0.86791829, 0.45473986,\n",
       "        0.51559603, 0.48884658, 0.66686426, 0.13965125, 0.02997359,\n",
       "        0.30792994, 0.70468076, 0.20185345, 0.67343243, 0.96991205,\n",
       "        0.09390072, 0.67260212, 0.44375022, 0.86814225, 0.17714979,\n",
       "        0.69262595, 0.83811529, 0.94461422, 0.68324803, 0.49717476,\n",
       "        0.61784724, 0.86890498, 0.57060975, 0.03038706, 0.9309487 ,\n",
       "        0.68952675, 0.67651339, 0.21567515, 0.65888547, 0.39386441,\n",
       "        0.65123298, 0.10659303, 0.6578453 , 0.99941373, 0.04821204,\n",
       "        0.97717418, 0.40690796, 0.87075345, 0.78238548, 0.56701626,\n",
       "        0.73844921, 0.87851556, 0.40414032, 0.32703316, 0.66759339,\n",
       "        0.80784594, 0.76228513, 0.79781365, 0.43558331, 0.81783422,\n",
       "        0.12020906, 0.5444891 , 0.00575866, 0.32458583, 0.36646153,\n",
       "        0.39617269, 0.69546721, 0.3885581 , 0.44869362, 0.23754413,\n",
       "        0.37325179, 0.22726963, 0.07319592, 0.60344859, 0.6682128 ,\n",
       "        0.61949035, 0.46349404, 0.37978578, 0.86333365, 0.51908179,\n",
       "        0.47918188, 0.02564207, 0.34124783, 0.38019562, 0.39882278,\n",
       "        0.58017237, 0.53360255, 0.60790509, 0.76488326, 0.81298574,\n",
       "        0.71812308, 0.9555237 , 0.01823258, 0.19577799, 0.00756287,\n",
       "        0.64747471, 0.89803055, 0.2434823 , 0.92703454, 0.06026739,\n",
       "        0.93443603, 0.35162269, 0.10142083, 0.48587176, 0.25677657,\n",
       "        0.2848729 , 0.30728996, 0.8030259 , 0.53916128, 0.3113077 ,\n",
       "        0.61033378, 0.71615067, 0.272624  , 0.4135491 , 0.12188609,\n",
       "        0.18114935, 0.68111785, 0.18143835, 0.52516338, 0.70904626,\n",
       "        0.10687692, 0.56731222, 0.25656278, 0.96292688, 0.48354565,\n",
       "        0.80599255, 0.55022654, 0.04341253, 0.63315138, 0.95140334,\n",
       "        0.60161182, 0.81918886, 0.88420646, 0.22807977, 0.21204484,\n",
       "        0.61098099, 0.41102847, 0.8398613 , 0.90002312, 0.35342138,\n",
       "        0.23687056, 0.78052552, 0.27480604, 0.82261432, 0.42373825,\n",
       "        0.6675499 , 0.09553531, 0.62385932, 0.45176768, 0.58660846,\n",
       "        0.16801421, 0.73687374, 0.86279708, 0.2167398 , 0.09571456,\n",
       "        0.02363859, 0.6419715 , 0.60709404, 0.54669741, 0.2319471 ,\n",
       "        0.390906  , 0.59447634, 0.49676686, 0.98778552, 0.13643975,\n",
       "        0.69514455, 0.40431877, 0.42819961, 0.71759777, 0.69243615,\n",
       "        0.99125599, 0.12839429, 0.10410965, 0.72433882, 0.57838692,\n",
       "        0.27416067, 0.07941937, 0.08565825, 0.89419087, 0.19186732,\n",
       "        0.32337156, 0.2266564 , 0.35499631, 0.06942384, 0.51905979,\n",
       "        0.06761256, 0.80035651, 0.23371208, 0.54001191, 0.88007909,\n",
       "        0.65087737, 0.53295779, 0.32433375, 0.33300191, 0.66948696,\n",
       "        0.99413936, 0.66183919, 0.55778342, 0.73065051, 0.46520561,\n",
       "        0.06014234, 0.56229682, 0.95762528, 0.17530294, 0.69000489,\n",
       "        0.20093369, 0.53582768, 0.09667645, 0.45037094, 0.75616333,\n",
       "        0.34757152, 0.66491172, 0.79544996, 0.92717782, 0.23464208,\n",
       "        0.39931592, 0.15241601, 0.9924835 , 0.92700097, 0.53995713,\n",
       "        0.84203329, 0.52095798, 0.62358569, 0.08912443, 0.75527042,\n",
       "        0.12771348, 0.82606763, 0.78202809, 0.7087447 , 0.03616038,\n",
       "        0.30312836, 0.26311257, 0.36013641, 0.08764275, 0.93695782,\n",
       "        0.55380224, 0.30552431, 0.39698152, 0.44720254, 0.60059433,\n",
       "        0.51567943, 0.91939197, 0.49696348, 0.99215801, 0.85142496,\n",
       "        0.20851051, 0.93059521, 0.1163664 , 0.81744971, 0.38062329,\n",
       "        0.87797432, 0.86805669, 0.8059254 , 0.79003044, 0.30467914,\n",
       "        0.08091928, 0.40298018, 0.17352451, 0.69495109, 0.34609973,\n",
       "        0.9756102 , 0.64097208, 0.82248056, 0.13252467, 0.86201448,\n",
       "        0.92275719, 0.48706192, 0.60625294, 0.7648098 , 0.17483863,\n",
       "        0.50256608, 0.39866303, 0.14637399, 0.36753442, 0.06817231,\n",
       "        0.02581191, 0.13516629, 0.96311511, 0.54952954, 0.96582216,\n",
       "        0.43249788, 0.31181613, 0.50614186, 0.43951169, 0.10566468,\n",
       "        0.64082631, 0.21603818, 0.61958795, 0.65020109, 0.15202485,\n",
       "        0.06134963, 0.78076159, 0.45980042, 0.0581638 , 0.99486632,\n",
       "        0.05778056, 0.69503523, 0.98367893, 0.2391801 , 0.14224937,\n",
       "        0.12138494, 0.30327515, 0.10104581, 0.69216134, 0.0622918 ,\n",
       "        0.50942213, 0.99669685, 0.81397027, 0.61521944, 0.30625362,\n",
       "        0.62389584, 0.52704146, 0.42608338, 0.13071038, 0.88660422,\n",
       "        0.44978465, 0.19462251, 0.36775935, 0.41412975, 0.8275379 ,\n",
       "        0.73361438, 0.76930489, 0.01103126, 0.416154  , 0.48134415,\n",
       "        0.01919228, 0.25981321, 0.76028982, 0.13710971, 0.53531013,\n",
       "        0.21520187, 0.01212077, 0.24120146, 0.97587375, 0.80153711,\n",
       "        0.95957664, 0.48785404, 0.1097362 , 0.54795949, 0.45437733,\n",
       "        0.84435708, 0.09808258, 0.48824114, 0.15004866, 0.32467593,\n",
       "        0.73735708, 0.47601813, 0.37588829, 0.39447628, 0.45944677,\n",
       "        0.78501654, 0.89208469, 0.95533469, 0.78690339, 0.3154069 ,\n",
       "        0.68813471, 0.43760312, 0.25467062, 0.84087158, 0.03842635,\n",
       "        0.90176199, 0.46147746, 0.63720148, 0.65935392, 0.89511774,\n",
       "        0.63666968, 0.61393358, 0.06665204, 0.51840802, 0.150169  ,\n",
       "        0.73743377, 0.51222192, 0.68022778, 0.0416729 , 0.08479202,\n",
       "        0.71632339, 0.07208434, 0.07125673, 0.01210848, 0.9565014 ,\n",
       "        0.73750836, 0.35325141, 0.29653558, 0.34970323, 0.77465353,\n",
       "        0.66137061, 0.18519557, 0.17410934, 0.09839565, 0.66030272,\n",
       "        0.76437266, 0.26504643, 0.02094496, 0.08217167, 0.96786003,\n",
       "        0.29544478, 0.76922315, 0.62466357, 0.38193964, 0.20568726,\n",
       "        0.12138642, 0.61501297, 0.77463378, 0.64390425, 0.53030213,\n",
       "        0.04195122, 0.96848878, 0.79871419, 0.29282204, 0.97997033,\n",
       "        0.60188159, 0.58242266, 0.74807318, 0.81176979, 0.65647861,\n",
       "        0.12809575, 0.33826751, 0.92808364, 0.22461561, 0.37216702,\n",
       "        0.43207688, 0.43940499, 0.61293958, 0.94307584, 0.24069271,\n",
       "        0.12150138, 0.19747049, 0.8869249 , 0.64581081, 0.28590679,\n",
       "        0.81594694, 0.86137   , 0.84651434, 0.91892653, 0.25224102,\n",
       "        0.75504193, 0.4605395 , 0.84199855, 0.72849068, 0.77644745,\n",
       "        0.65616184, 0.17742877, 0.54502692, 0.98466974, 0.93738807,\n",
       "        0.04317374, 0.16481482, 0.13172877, 0.72597991, 0.81778533,\n",
       "        0.21351137, 0.50585269, 0.84070303, 0.73280154, 0.54223721,\n",
       "        0.59034769, 0.50836055, 0.29754845, 0.56502199, 0.6888853 ,\n",
       "        0.87332292, 0.63629135, 0.76112154, 0.16007163, 0.46155747,\n",
       "        0.00933162, 0.24667886, 0.72646172, 0.99180995, 0.0991781 ,\n",
       "        0.40149432, 0.80007097, 0.20403563, 0.55508495, 0.7330713 ,\n",
       "        0.61598545, 0.18802473, 0.35538457, 0.78379178, 0.55422651,\n",
       "        0.00522961, 0.76099076, 0.03531135, 0.74573378, 0.20248056,\n",
       "        0.95807348, 0.36794075, 0.32693162, 0.14888805, 0.30560422,\n",
       "        0.87665076, 0.99633434, 0.36830953, 0.44861063, 0.72207094,\n",
       "        0.88619578, 0.59304433, 0.3915257 , 0.41262184, 0.69561815,\n",
       "        0.00321826, 0.61958934, 0.35549301, 0.79419733, 0.09299064,\n",
       "        0.58820227, 0.48097289, 0.64232553, 0.06485359, 0.57998379,\n",
       "        0.56148459, 0.56066009, 0.60348767, 0.67646794, 0.804989  ,\n",
       "        0.26982072, 0.82504941, 0.49825568, 0.07705828, 0.05855093,\n",
       "        0.33423832, 0.78489698, 0.70768093, 0.78861496, 0.51726906,\n",
       "        0.440199  , 0.14745253, 0.32819275, 0.43401937, 0.08860043,\n",
       "        0.22061195, 0.59822529, 0.73566311, 0.99834751, 0.93311333,\n",
       "        0.6425652 , 0.42124805, 0.63617736, 0.78565162, 0.11833619,\n",
       "        0.40990489, 0.83980229, 0.38383295, 0.57187227, 0.58776936,\n",
       "        0.18447625, 0.36223544, 0.33451129, 0.02619671, 0.02419176,\n",
       "        0.83169704, 0.27307081, 0.51807877, 0.29872557, 0.94067925,\n",
       "        0.25929676, 0.42965681, 0.87273025, 0.84193357, 0.18610142,\n",
       "        0.80264331, 0.45818689, 0.48296887, 0.13347997, 0.08060151,\n",
       "        0.72793931, 0.49646115, 0.4368507 , 0.72950823, 0.7655129 ,\n",
       "        0.15890817, 0.61022515, 0.13535408, 0.75137509, 0.65695516,\n",
       "        0.95661462, 0.06895802, 0.05705472, 0.28218707, 0.26170568,\n",
       "        0.2469788 , 0.90625458, 0.2495462 , 0.27194973, 0.75939826,\n",
       "        0.44973984, 0.77671056, 0.06536616, 0.48757119, 0.0336136 ,\n",
       "        0.0626532 , 0.90643745, 0.13924537, 0.53242068, 0.4110956 ,\n",
       "        0.34734333, 0.89983335, 0.0218234 , 0.66378969, 0.96339443,\n",
       "        0.56016818, 0.93682246, 0.05225788, 0.41879332, 0.26015779,\n",
       "        0.73082096, 0.98129709, 0.25653006, 0.6541746 , 0.19809763,\n",
       "        0.56533025, 0.46393249, 0.97200533, 0.60852727, 0.34950637,\n",
       "        0.11409578, 0.15124683, 0.22531693, 0.25096666, 0.85061606,\n",
       "        0.56122279, 0.52339091, 0.11476887, 0.86013969, 0.7228143 ,\n",
       "        0.06766836, 0.7078351 , 0.54353822, 0.08172535, 0.45830064,\n",
       "        0.48469629, 0.16577454, 0.94569815, 0.84997537, 0.66902234,\n",
       "        0.46229556, 0.41176554, 0.65097347, 0.54543187, 0.06227311,\n",
       "        0.51250265, 0.80640362, 0.45923988, 0.05195658, 0.7862782 ,\n",
       "        0.20136378, 0.25862083, 0.16470635, 0.33021506, 0.75675151,\n",
       "        0.51938586, 0.20488127, 0.87783008, 0.87958185, 0.87057843,\n",
       "        0.23879621, 0.45123934, 0.98498966, 0.77201248, 0.02716742,\n",
       "        0.06520459, 0.46393138, 0.90922021, 0.5387018 , 0.49781251,\n",
       "        0.1054737 , 0.6567801 , 0.82210316, 0.38042001, 0.77561185,\n",
       "        0.96447665, 0.20376646, 0.52332963, 0.28713796, 0.79285442,\n",
       "        0.57759337, 0.63458242, 0.79791416, 0.39597047, 0.91509007,\n",
       "        0.53302887, 0.15795482, 0.69589912, 0.79326135, 0.31676168,\n",
       "        0.85717926, 0.90614325, 0.27690449, 0.98352147, 0.14071153,\n",
       "        0.20201567, 0.18422484, 0.89398971, 0.65429255, 0.15210428,\n",
       "        0.44032342, 0.61529803, 0.08346408, 0.88241637, 0.80360354,\n",
       "        0.50520677, 0.96712662, 0.41776098, 0.98411032, 0.66792   ,\n",
       "        0.63467127, 0.1659549 , 0.88192776, 0.42748969, 0.16223341,\n",
       "        0.01260752, 0.55975568, 0.52739962, 0.71935362, 0.89025805,\n",
       "        0.07940658, 0.73149649, 0.18741194, 0.85817705, 0.81906351,\n",
       "        0.54079375, 0.7102428 , 0.31435011, 0.4711679 , 0.8216369 ,\n",
       "        0.4592652 , 0.35779827, 0.49421245, 0.82824925, 0.33520805,\n",
       "        0.17376159, 0.71201402, 0.82597821, 0.10063748, 0.23987411,\n",
       "        0.14197199, 0.34794141, 0.45035098, 0.74882634, 0.65114758,\n",
       "        0.62092857, 0.35237495, 0.84144755, 0.47128717, 0.97910494,\n",
       "        0.63414214, 0.12626474, 0.67617756, 0.32510402, 0.6863272 ,\n",
       "        0.06964115, 0.17488144, 0.85573726, 0.22717956, 0.83704113,\n",
       "        0.27927609, 0.64288191, 0.69415057, 0.51265475, 0.30531068,\n",
       "        0.21264438, 0.03318935, 0.3039464 , 0.65316279, 0.93830482,\n",
       "        0.87120448, 0.76606478, 0.78844734, 0.6649849 , 0.26028686,\n",
       "        0.90719503, 0.67073231, 0.56044063, 0.11098947, 0.44705554,\n",
       "        0.46035827, 0.86456361, 0.54664822, 0.38040055, 0.97680033,\n",
       "        0.11072059, 0.42254843, 0.04202468, 0.73990412, 0.91807655,\n",
       "        0.28003733, 0.85834168, 0.29221823, 0.91077016, 0.7539619 ,\n",
       "        0.80490678, 0.01800656, 0.96281036, 0.72667099, 0.3047511 ,\n",
       "        0.82939466, 0.2815212 , 0.87275384, 0.11258039, 0.70368598,\n",
       "        0.54069848, 0.09653447, 0.24189383, 0.01240404, 0.46876797,\n",
       "        0.30126526, 0.59835748, 0.29723781, 0.29991911, 0.7431932 ,\n",
       "        0.04814284, 0.902895  , 0.85226387, 0.66780468, 0.59322157,\n",
       "        0.8923025 , 0.18533018, 0.07896916, 0.23951017, 0.79457828,\n",
       "        0.03467027, 0.58280684, 0.99543752, 0.85569609, 0.52144569,\n",
       "        0.06364091, 0.83137351, 0.59897851, 0.114933  , 0.09385728,\n",
       "        0.90962682, 0.66920026, 0.8292868 , 0.8789789 , 0.57177235,\n",
       "        0.51744635, 0.43042741, 0.31694659, 0.43459596, 0.77387966,\n",
       "        0.60192343, 0.89252329, 0.44338001, 0.60708958, 0.63130755,\n",
       "        0.59169716, 0.70263377, 0.23743347, 0.51236378, 0.1042248 ,\n",
       "        0.38451133, 0.48766707, 0.65222426, 0.95053105, 0.60065107,\n",
       "        0.74359392, 0.50626606, 0.63410403, 0.07093222, 0.25439158,\n",
       "        0.36185309, 0.47249336, 0.04564875, 0.1400241 , 0.27681431,\n",
       "        0.97153269, 0.33134701, 0.48204106, 0.19609771, 0.61078007,\n",
       "        0.28068322, 0.20699258, 0.51657263, 0.0055058 , 0.00766403]),\n",
       " 'binomial': array([0, 0, 0, 0, 1, 0, 0, 0, 1, 0, 0, 0, 0, 0, 0, 1, 0, 0, 1, 0, 0, 0,\n",
       "        0, 0, 1, 0, 0, 0, 1, 1, 1, 0, 0, 0, 0, 0, 0, 0, 0, 0, 0, 0, 0, 0,\n",
       "        0, 0, 0, 0, 1, 0, 0, 0, 0, 0, 0, 1, 0, 1, 0, 0, 1, 0, 0, 0, 0, 0,\n",
       "        0, 0, 0, 0, 0, 0, 0, 0, 0, 1, 0, 0, 0, 0, 0, 0, 0, 0, 1, 1, 1, 0,\n",
       "        0, 0, 0, 0, 0, 0, 0, 0, 0, 0, 1, 0, 0, 0, 0, 0, 0, 0, 0, 0, 0, 0,\n",
       "        0, 0, 1, 0, 0, 0, 0, 0, 0, 1, 0, 0, 0, 0, 0, 0, 0, 0, 0, 1, 0, 1,\n",
       "        0, 1, 0, 1, 1, 0, 1, 0, 0, 0, 0, 0, 0, 0, 0, 1, 0, 0, 0, 0, 0, 0,\n",
       "        0, 1, 0, 0, 0, 0, 0, 0, 0, 0, 1, 1, 0, 0, 0, 0, 0, 0, 0, 0, 0, 1,\n",
       "        1, 0, 0, 1, 0, 0, 0, 0, 0, 1, 1, 0, 0, 1, 0, 1, 0, 0, 0, 0, 0, 0,\n",
       "        0, 0, 0, 1, 1, 0, 1, 0, 0, 1, 0, 0, 1, 0, 1, 1, 0, 1, 0, 0, 0, 1,\n",
       "        0, 0, 0, 0, 0, 0, 0, 0, 1, 0, 0, 1, 0, 1, 0, 1, 0, 0, 0, 1, 0, 0,\n",
       "        0, 0, 0, 0, 1, 0, 0, 0, 0, 0, 0, 0, 0, 0, 1, 1, 0, 1, 0, 0, 0, 0,\n",
       "        0, 0, 0, 0, 0, 0, 0, 0, 1, 1, 0, 1, 0, 0, 0, 0, 1, 0, 0, 0, 0, 1,\n",
       "        0, 0, 0, 0, 0, 0, 0, 0, 1, 1, 0, 0, 0, 0, 0, 0, 0, 0, 0, 0, 0, 0,\n",
       "        0, 0, 0, 0, 0, 0, 1, 0, 0, 0, 0, 0, 0, 0, 1, 0, 0, 1, 0, 1, 0, 1,\n",
       "        0, 0, 0, 0, 0, 0, 0, 0, 0, 0, 1, 0, 1, 0, 0, 0, 0, 0, 0, 0, 1, 0,\n",
       "        0, 0, 0, 0, 0, 0, 0, 0, 1, 1, 0, 0, 0, 1, 0, 0, 0, 0, 0, 0, 0, 0,\n",
       "        0, 0, 0, 0, 1, 0, 0, 0, 0, 0, 0, 1, 0, 0, 0, 0, 0, 0, 0, 0, 0, 0,\n",
       "        0, 0, 1, 0, 0, 0, 0, 0, 0, 1, 0, 0, 0, 1, 0, 0, 0, 0, 0, 0, 0, 0,\n",
       "        0, 0, 0, 1, 1, 0, 1, 0, 0, 0, 0, 0, 0, 0, 0, 0, 0, 0, 0, 1, 1, 0,\n",
       "        1, 0, 1, 0, 0, 0, 0, 0, 0, 0, 0, 0, 1, 0, 0, 0, 0, 0, 1, 0, 0, 1,\n",
       "        0, 0, 0, 0, 0, 0, 0, 1, 0, 0, 0, 0, 0, 0, 1, 0, 0, 0, 0, 0, 0, 0,\n",
       "        0, 1, 1, 0, 1, 0, 1, 0, 1, 1, 0, 1, 0, 0, 0, 0, 0, 0, 1, 0, 0, 1,\n",
       "        1, 1, 0, 1, 0, 0, 0, 0, 0, 0, 0, 0, 0, 0, 0, 0, 0, 0, 1, 0, 0, 0,\n",
       "        0, 1, 0, 0, 0, 0, 0, 0, 0, 0, 0, 1, 1, 0, 0, 0, 0, 0, 1, 1, 0, 0,\n",
       "        0, 0, 0, 0, 0, 0, 0, 1, 0, 0, 0, 0, 0, 0, 1, 0, 1, 0, 0, 0, 0, 0,\n",
       "        0, 0, 1, 1, 1, 0, 0, 0, 0, 0, 0, 0, 0, 1, 0, 0, 0, 1, 0, 0, 1, 1,\n",
       "        0, 0, 0, 0, 0, 1, 0, 0, 0, 0, 0, 0, 0, 0, 0, 0, 1, 0, 0, 0, 0, 0,\n",
       "        0, 1, 0, 0, 0, 1, 0, 0, 0, 0, 1, 0, 0, 1, 1, 1, 0, 0, 0, 0, 0, 0,\n",
       "        0, 0, 0, 0, 1, 0, 0, 0, 0, 0, 0, 0, 0, 0, 0, 1, 1, 0, 0, 0, 1, 0,\n",
       "        0, 1, 0, 1, 0, 0, 0, 1, 1, 0, 0, 0, 1, 0, 0, 0, 0, 0, 0, 0, 1, 0,\n",
       "        0, 1, 0, 0, 0, 1, 0, 1, 0, 0, 0, 1, 0, 1, 0, 0, 0, 1, 0, 0, 0, 1,\n",
       "        0, 0, 0, 0, 0, 1, 1, 0, 0, 0, 0, 0, 0, 0, 0, 0, 0, 0, 0, 0, 0, 0,\n",
       "        0, 0, 0, 0, 1, 0, 0, 0, 0, 0, 0, 0, 0, 0, 0, 1, 0, 0, 0, 1, 0, 0,\n",
       "        0, 0, 0, 0, 0, 0, 0, 0, 0, 0, 0, 1, 0, 0, 0, 1, 0, 0, 0, 0, 0, 0,\n",
       "        0, 1, 0, 0, 0, 0, 0, 0, 0, 1, 1, 0, 0, 1, 0, 1, 0, 0, 0, 0, 0, 0,\n",
       "        0, 0, 0, 1, 0, 1, 0, 0, 1, 0, 0, 0, 0, 0, 1, 0, 0, 0, 0, 0, 0, 0,\n",
       "        0, 0, 0, 0, 0, 1, 0, 0, 0, 0, 0, 0, 0, 0, 0, 0, 0, 0, 1, 1, 1, 1,\n",
       "        1, 0, 0, 0, 0, 0, 0, 0, 0, 1, 0, 0, 0, 0, 1, 0, 0, 0, 0, 0, 0, 0,\n",
       "        0, 0, 1, 0, 1, 0, 0, 0, 0, 0, 0, 0, 1, 0, 0, 0, 0, 0, 0, 0, 0, 0,\n",
       "        0, 1, 1, 0, 0, 0, 0, 0, 0, 0, 0, 0, 1, 0, 0, 1, 1, 0, 0, 0, 1, 1,\n",
       "        0, 0, 0, 0, 0, 1, 0, 1, 1, 0, 0, 0, 0, 0, 0, 0, 0, 0, 0, 0, 0, 0,\n",
       "        0, 0, 0, 0, 0, 1, 0, 0, 0, 0, 0, 0, 0, 0, 0, 0, 0, 1, 0, 0, 0, 0,\n",
       "        0, 0, 0, 0, 0, 0, 1, 0, 0, 0, 0, 0, 0, 0, 0, 0, 0, 1, 0, 0, 0, 0,\n",
       "        0, 0, 0, 0, 0, 0, 0, 0, 0, 0, 1, 1, 1, 0, 0, 0, 0, 0, 1, 1, 0, 0,\n",
       "        0, 1, 1, 0, 0, 1, 0, 0, 1, 0])}"
      ]
     },
     "execution_count": 196,
     "metadata": {},
     "output_type": "execute_result"
    }
   ],
   "source": [
    "data_dict"
   ]
  },
  {
   "cell_type": "code",
   "execution_count": 201,
   "metadata": {},
   "outputs": [
    {
     "data": {
      "text/plain": [
       "DatetimeIndex(['2020-01-01', '2020-01-02', '2020-01-03', '2020-01-04',\n",
       "               '2020-01-05', '2020-01-06', '2020-01-07', '2020-01-08',\n",
       "               '2020-01-09', '2020-01-10',\n",
       "               ...\n",
       "               '2022-09-17', '2022-09-18', '2022-09-19', '2022-09-20',\n",
       "               '2022-09-21', '2022-09-22', '2022-09-23', '2022-09-24',\n",
       "               '2022-09-25', '2022-09-26'],\n",
       "              dtype='datetime64[ns]', length=1000, freq='D')"
      ]
     },
     "execution_count": 201,
     "metadata": {},
     "output_type": "execute_result"
    }
   ],
   "source": [
    "index=pd.date_range(start='2020-01-01',periods=len(dframe))\n",
    "index"
   ]
  },
  {
   "cell_type": "code",
   "execution_count": 202,
   "metadata": {},
   "outputs": [],
   "source": [
    "dframe=pd.DataFrame(data_dict)"
   ]
  },
  {
   "cell_type": "code",
   "execution_count": 205,
   "metadata": {},
   "outputs": [],
   "source": [
    "dframe.set_index(keys=index,inplace=True)"
   ]
  },
  {
   "cell_type": "code",
   "execution_count": 206,
   "metadata": {},
   "outputs": [
    {
     "data": {
      "text/html": [
       "<div>\n",
       "<style scoped>\n",
       "    .dataframe tbody tr th:only-of-type {\n",
       "        vertical-align: middle;\n",
       "    }\n",
       "\n",
       "    .dataframe tbody tr th {\n",
       "        vertical-align: top;\n",
       "    }\n",
       "\n",
       "    .dataframe thead th {\n",
       "        text-align: right;\n",
       "    }\n",
       "</style>\n",
       "<table border=\"1\" class=\"dataframe\">\n",
       "  <thead>\n",
       "    <tr style=\"text-align: right;\">\n",
       "      <th></th>\n",
       "      <th>normal</th>\n",
       "      <th>uniform</th>\n",
       "      <th>binomial</th>\n",
       "    </tr>\n",
       "  </thead>\n",
       "  <tbody>\n",
       "    <tr>\n",
       "      <th>2020-01-01</th>\n",
       "      <td>0.496714</td>\n",
       "      <td>0.167483</td>\n",
       "      <td>0</td>\n",
       "    </tr>\n",
       "    <tr>\n",
       "      <th>2020-01-02</th>\n",
       "      <td>-0.138264</td>\n",
       "      <td>0.104568</td>\n",
       "      <td>0</td>\n",
       "    </tr>\n",
       "    <tr>\n",
       "      <th>2020-01-03</th>\n",
       "      <td>0.647689</td>\n",
       "      <td>0.636430</td>\n",
       "      <td>0</td>\n",
       "    </tr>\n",
       "    <tr>\n",
       "      <th>2020-01-04</th>\n",
       "      <td>1.523030</td>\n",
       "      <td>0.706476</td>\n",
       "      <td>0</td>\n",
       "    </tr>\n",
       "    <tr>\n",
       "      <th>2020-01-05</th>\n",
       "      <td>-0.234153</td>\n",
       "      <td>0.031586</td>\n",
       "      <td>1</td>\n",
       "    </tr>\n",
       "    <tr>\n",
       "      <th>2020-01-06</th>\n",
       "      <td>-0.234137</td>\n",
       "      <td>0.936212</td>\n",
       "      <td>0</td>\n",
       "    </tr>\n",
       "    <tr>\n",
       "      <th>2020-01-07</th>\n",
       "      <td>1.579213</td>\n",
       "      <td>0.051971</td>\n",
       "      <td>0</td>\n",
       "    </tr>\n",
       "    <tr>\n",
       "      <th>2020-01-08</th>\n",
       "      <td>0.767435</td>\n",
       "      <td>0.541296</td>\n",
       "      <td>0</td>\n",
       "    </tr>\n",
       "    <tr>\n",
       "      <th>2020-01-09</th>\n",
       "      <td>-0.469474</td>\n",
       "      <td>0.709061</td>\n",
       "      <td>1</td>\n",
       "    </tr>\n",
       "    <tr>\n",
       "      <th>2020-01-10</th>\n",
       "      <td>0.542560</td>\n",
       "      <td>0.870969</td>\n",
       "      <td>0</td>\n",
       "    </tr>\n",
       "    <tr>\n",
       "      <th>2020-01-11</th>\n",
       "      <td>-0.463418</td>\n",
       "      <td>0.714087</td>\n",
       "      <td>0</td>\n",
       "    </tr>\n",
       "    <tr>\n",
       "      <th>2020-01-12</th>\n",
       "      <td>-0.465730</td>\n",
       "      <td>0.801728</td>\n",
       "      <td>0</td>\n",
       "    </tr>\n",
       "    <tr>\n",
       "      <th>2020-01-13</th>\n",
       "      <td>0.241962</td>\n",
       "      <td>0.339450</td>\n",
       "      <td>0</td>\n",
       "    </tr>\n",
       "    <tr>\n",
       "      <th>2020-01-14</th>\n",
       "      <td>-1.913280</td>\n",
       "      <td>0.814825</td>\n",
       "      <td>0</td>\n",
       "    </tr>\n",
       "    <tr>\n",
       "      <th>2020-01-15</th>\n",
       "      <td>-1.724918</td>\n",
       "      <td>0.080115</td>\n",
       "      <td>0</td>\n",
       "    </tr>\n",
       "    <tr>\n",
       "      <th>2020-01-16</th>\n",
       "      <td>-0.562288</td>\n",
       "      <td>0.894817</td>\n",
       "      <td>1</td>\n",
       "    </tr>\n",
       "    <tr>\n",
       "      <th>2020-01-17</th>\n",
       "      <td>-1.012831</td>\n",
       "      <td>0.547592</td>\n",
       "      <td>0</td>\n",
       "    </tr>\n",
       "    <tr>\n",
       "      <th>2020-01-18</th>\n",
       "      <td>0.314247</td>\n",
       "      <td>0.817298</td>\n",
       "      <td>0</td>\n",
       "    </tr>\n",
       "    <tr>\n",
       "      <th>2020-01-19</th>\n",
       "      <td>-0.908024</td>\n",
       "      <td>0.452318</td>\n",
       "      <td>1</td>\n",
       "    </tr>\n",
       "    <tr>\n",
       "      <th>2020-01-20</th>\n",
       "      <td>-1.412304</td>\n",
       "      <td>0.643578</td>\n",
       "      <td>0</td>\n",
       "    </tr>\n",
       "    <tr>\n",
       "      <th>2020-01-21</th>\n",
       "      <td>1.465649</td>\n",
       "      <td>0.526403</td>\n",
       "      <td>0</td>\n",
       "    </tr>\n",
       "    <tr>\n",
       "      <th>2020-01-22</th>\n",
       "      <td>-0.225776</td>\n",
       "      <td>0.731590</td>\n",
       "      <td>0</td>\n",
       "    </tr>\n",
       "    <tr>\n",
       "      <th>2020-01-23</th>\n",
       "      <td>0.067528</td>\n",
       "      <td>0.081630</td>\n",
       "      <td>0</td>\n",
       "    </tr>\n",
       "    <tr>\n",
       "      <th>2020-01-24</th>\n",
       "      <td>-1.424748</td>\n",
       "      <td>0.060352</td>\n",
       "      <td>0</td>\n",
       "    </tr>\n",
       "    <tr>\n",
       "      <th>2020-01-25</th>\n",
       "      <td>-0.544383</td>\n",
       "      <td>0.247103</td>\n",
       "      <td>1</td>\n",
       "    </tr>\n",
       "    <tr>\n",
       "      <th>2020-01-26</th>\n",
       "      <td>0.110923</td>\n",
       "      <td>0.159545</td>\n",
       "      <td>0</td>\n",
       "    </tr>\n",
       "    <tr>\n",
       "      <th>2020-01-27</th>\n",
       "      <td>-1.150994</td>\n",
       "      <td>0.871784</td>\n",
       "      <td>0</td>\n",
       "    </tr>\n",
       "    <tr>\n",
       "      <th>2020-01-28</th>\n",
       "      <td>0.375698</td>\n",
       "      <td>0.219214</td>\n",
       "      <td>0</td>\n",
       "    </tr>\n",
       "    <tr>\n",
       "      <th>2020-01-29</th>\n",
       "      <td>-0.600639</td>\n",
       "      <td>0.975865</td>\n",
       "      <td>1</td>\n",
       "    </tr>\n",
       "    <tr>\n",
       "      <th>2020-01-30</th>\n",
       "      <td>-0.291694</td>\n",
       "      <td>0.336896</td>\n",
       "      <td>1</td>\n",
       "    </tr>\n",
       "    <tr>\n",
       "      <th>...</th>\n",
       "      <td>...</td>\n",
       "      <td>...</td>\n",
       "      <td>...</td>\n",
       "    </tr>\n",
       "    <tr>\n",
       "      <th>2022-08-28</th>\n",
       "      <td>0.128104</td>\n",
       "      <td>0.591697</td>\n",
       "      <td>0</td>\n",
       "    </tr>\n",
       "    <tr>\n",
       "      <th>2022-08-29</th>\n",
       "      <td>-0.681052</td>\n",
       "      <td>0.702634</td>\n",
       "      <td>0</td>\n",
       "    </tr>\n",
       "    <tr>\n",
       "      <th>2022-08-30</th>\n",
       "      <td>0.840644</td>\n",
       "      <td>0.237433</td>\n",
       "      <td>0</td>\n",
       "    </tr>\n",
       "    <tr>\n",
       "      <th>2022-08-31</th>\n",
       "      <td>-0.652624</td>\n",
       "      <td>0.512364</td>\n",
       "      <td>0</td>\n",
       "    </tr>\n",
       "    <tr>\n",
       "      <th>2022-09-01</th>\n",
       "      <td>-0.446183</td>\n",
       "      <td>0.104225</td>\n",
       "      <td>0</td>\n",
       "    </tr>\n",
       "    <tr>\n",
       "      <th>2022-09-02</th>\n",
       "      <td>-1.889541</td>\n",
       "      <td>0.384511</td>\n",
       "      <td>0</td>\n",
       "    </tr>\n",
       "    <tr>\n",
       "      <th>2022-09-03</th>\n",
       "      <td>-0.452306</td>\n",
       "      <td>0.487667</td>\n",
       "      <td>0</td>\n",
       "    </tr>\n",
       "    <tr>\n",
       "      <th>2022-09-04</th>\n",
       "      <td>-2.423879</td>\n",
       "      <td>0.652224</td>\n",
       "      <td>0</td>\n",
       "    </tr>\n",
       "    <tr>\n",
       "      <th>2022-09-05</th>\n",
       "      <td>-1.583903</td>\n",
       "      <td>0.950531</td>\n",
       "      <td>1</td>\n",
       "    </tr>\n",
       "    <tr>\n",
       "      <th>2022-09-06</th>\n",
       "      <td>0.760415</td>\n",
       "      <td>0.600651</td>\n",
       "      <td>1</td>\n",
       "    </tr>\n",
       "    <tr>\n",
       "      <th>2022-09-07</th>\n",
       "      <td>0.785800</td>\n",
       "      <td>0.743594</td>\n",
       "      <td>1</td>\n",
       "    </tr>\n",
       "    <tr>\n",
       "      <th>2022-09-08</th>\n",
       "      <td>0.425458</td>\n",
       "      <td>0.506266</td>\n",
       "      <td>0</td>\n",
       "    </tr>\n",
       "    <tr>\n",
       "      <th>2022-09-09</th>\n",
       "      <td>-0.966976</td>\n",
       "      <td>0.634104</td>\n",
       "      <td>0</td>\n",
       "    </tr>\n",
       "    <tr>\n",
       "      <th>2022-09-10</th>\n",
       "      <td>-0.047711</td>\n",
       "      <td>0.070932</td>\n",
       "      <td>0</td>\n",
       "    </tr>\n",
       "    <tr>\n",
       "      <th>2022-09-11</th>\n",
       "      <td>-0.003603</td>\n",
       "      <td>0.254392</td>\n",
       "      <td>0</td>\n",
       "    </tr>\n",
       "    <tr>\n",
       "      <th>2022-09-12</th>\n",
       "      <td>-1.158365</td>\n",
       "      <td>0.361853</td>\n",
       "      <td>0</td>\n",
       "    </tr>\n",
       "    <tr>\n",
       "      <th>2022-09-13</th>\n",
       "      <td>1.503398</td>\n",
       "      <td>0.472493</td>\n",
       "      <td>1</td>\n",
       "    </tr>\n",
       "    <tr>\n",
       "      <th>2022-09-14</th>\n",
       "      <td>0.877362</td>\n",
       "      <td>0.045649</td>\n",
       "      <td>1</td>\n",
       "    </tr>\n",
       "    <tr>\n",
       "      <th>2022-09-15</th>\n",
       "      <td>-0.220964</td>\n",
       "      <td>0.140024</td>\n",
       "      <td>0</td>\n",
       "    </tr>\n",
       "    <tr>\n",
       "      <th>2022-09-16</th>\n",
       "      <td>0.026886</td>\n",
       "      <td>0.276814</td>\n",
       "      <td>0</td>\n",
       "    </tr>\n",
       "    <tr>\n",
       "      <th>2022-09-17</th>\n",
       "      <td>0.208383</td>\n",
       "      <td>0.971533</td>\n",
       "      <td>0</td>\n",
       "    </tr>\n",
       "    <tr>\n",
       "      <th>2022-09-18</th>\n",
       "      <td>-2.041735</td>\n",
       "      <td>0.331347</td>\n",
       "      <td>1</td>\n",
       "    </tr>\n",
       "    <tr>\n",
       "      <th>2022-09-19</th>\n",
       "      <td>-0.247177</td>\n",
       "      <td>0.482041</td>\n",
       "      <td>1</td>\n",
       "    </tr>\n",
       "    <tr>\n",
       "      <th>2022-09-20</th>\n",
       "      <td>-0.681984</td>\n",
       "      <td>0.196098</td>\n",
       "      <td>0</td>\n",
       "    </tr>\n",
       "    <tr>\n",
       "      <th>2022-09-21</th>\n",
       "      <td>-1.001620</td>\n",
       "      <td>0.610780</td>\n",
       "      <td>0</td>\n",
       "    </tr>\n",
       "    <tr>\n",
       "      <th>2022-09-22</th>\n",
       "      <td>-0.281100</td>\n",
       "      <td>0.280683</td>\n",
       "      <td>1</td>\n",
       "    </tr>\n",
       "    <tr>\n",
       "      <th>2022-09-23</th>\n",
       "      <td>1.797687</td>\n",
       "      <td>0.206993</td>\n",
       "      <td>0</td>\n",
       "    </tr>\n",
       "    <tr>\n",
       "      <th>2022-09-24</th>\n",
       "      <td>0.640843</td>\n",
       "      <td>0.516573</td>\n",
       "      <td>0</td>\n",
       "    </tr>\n",
       "    <tr>\n",
       "      <th>2022-09-25</th>\n",
       "      <td>-0.571179</td>\n",
       "      <td>0.005506</td>\n",
       "      <td>1</td>\n",
       "    </tr>\n",
       "    <tr>\n",
       "      <th>2022-09-26</th>\n",
       "      <td>0.572583</td>\n",
       "      <td>0.007664</td>\n",
       "      <td>0</td>\n",
       "    </tr>\n",
       "  </tbody>\n",
       "</table>\n",
       "<p>1000 rows × 3 columns</p>\n",
       "</div>"
      ],
      "text/plain": [
       "              normal   uniform  binomial\n",
       "2020-01-01  0.496714  0.167483         0\n",
       "2020-01-02 -0.138264  0.104568         0\n",
       "2020-01-03  0.647689  0.636430         0\n",
       "2020-01-04  1.523030  0.706476         0\n",
       "2020-01-05 -0.234153  0.031586         1\n",
       "2020-01-06 -0.234137  0.936212         0\n",
       "2020-01-07  1.579213  0.051971         0\n",
       "2020-01-08  0.767435  0.541296         0\n",
       "2020-01-09 -0.469474  0.709061         1\n",
       "2020-01-10  0.542560  0.870969         0\n",
       "2020-01-11 -0.463418  0.714087         0\n",
       "2020-01-12 -0.465730  0.801728         0\n",
       "2020-01-13  0.241962  0.339450         0\n",
       "2020-01-14 -1.913280  0.814825         0\n",
       "2020-01-15 -1.724918  0.080115         0\n",
       "2020-01-16 -0.562288  0.894817         1\n",
       "2020-01-17 -1.012831  0.547592         0\n",
       "2020-01-18  0.314247  0.817298         0\n",
       "2020-01-19 -0.908024  0.452318         1\n",
       "2020-01-20 -1.412304  0.643578         0\n",
       "2020-01-21  1.465649  0.526403         0\n",
       "2020-01-22 -0.225776  0.731590         0\n",
       "2020-01-23  0.067528  0.081630         0\n",
       "2020-01-24 -1.424748  0.060352         0\n",
       "2020-01-25 -0.544383  0.247103         1\n",
       "2020-01-26  0.110923  0.159545         0\n",
       "2020-01-27 -1.150994  0.871784         0\n",
       "2020-01-28  0.375698  0.219214         0\n",
       "2020-01-29 -0.600639  0.975865         1\n",
       "2020-01-30 -0.291694  0.336896         1\n",
       "...              ...       ...       ...\n",
       "2022-08-28  0.128104  0.591697         0\n",
       "2022-08-29 -0.681052  0.702634         0\n",
       "2022-08-30  0.840644  0.237433         0\n",
       "2022-08-31 -0.652624  0.512364         0\n",
       "2022-09-01 -0.446183  0.104225         0\n",
       "2022-09-02 -1.889541  0.384511         0\n",
       "2022-09-03 -0.452306  0.487667         0\n",
       "2022-09-04 -2.423879  0.652224         0\n",
       "2022-09-05 -1.583903  0.950531         1\n",
       "2022-09-06  0.760415  0.600651         1\n",
       "2022-09-07  0.785800  0.743594         1\n",
       "2022-09-08  0.425458  0.506266         0\n",
       "2022-09-09 -0.966976  0.634104         0\n",
       "2022-09-10 -0.047711  0.070932         0\n",
       "2022-09-11 -0.003603  0.254392         0\n",
       "2022-09-12 -1.158365  0.361853         0\n",
       "2022-09-13  1.503398  0.472493         1\n",
       "2022-09-14  0.877362  0.045649         1\n",
       "2022-09-15 -0.220964  0.140024         0\n",
       "2022-09-16  0.026886  0.276814         0\n",
       "2022-09-17  0.208383  0.971533         0\n",
       "2022-09-18 -2.041735  0.331347         1\n",
       "2022-09-19 -0.247177  0.482041         1\n",
       "2022-09-20 -0.681984  0.196098         0\n",
       "2022-09-21 -1.001620  0.610780         0\n",
       "2022-09-22 -0.281100  0.280683         1\n",
       "2022-09-23  1.797687  0.206993         0\n",
       "2022-09-24  0.640843  0.516573         0\n",
       "2022-09-25 -0.571179  0.005506         1\n",
       "2022-09-26  0.572583  0.007664         0\n",
       "\n",
       "[1000 rows x 3 columns]"
      ]
     },
     "execution_count": 206,
     "metadata": {},
     "output_type": "execute_result"
    }
   ],
   "source": [
    "dframe"
   ]
  },
  {
   "cell_type": "markdown",
   "metadata": {},
   "source": [
    "### from the dataframe created for the previous question, print the first ten rows and the an blank line and last five rows to console"
   ]
  },
  {
   "cell_type": "code",
   "execution_count": 208,
   "metadata": {},
   "outputs": [
    {
     "name": "stdout",
     "output_type": "stream",
     "text": [
      "              normal   uniform  binomial\n",
      "2020-01-01  0.496714  0.167483         0\n",
      "2020-01-02 -0.138264  0.104568         0\n",
      "2020-01-03  0.647689  0.636430         0\n",
      "2020-01-04  1.523030  0.706476         0\n",
      "2020-01-05 -0.234153  0.031586         1\n",
      "2020-01-06 -0.234137  0.936212         0\n",
      "2020-01-07  1.579213  0.051971         0\n",
      "2020-01-08  0.767435  0.541296         0\n",
      "2020-01-09 -0.469474  0.709061         1\n",
      "2020-01-10  0.542560  0.870969         0\n",
      "\n",
      "              normal   uniform  binomial\n",
      "2022-09-22 -0.281100  0.280683         1\n",
      "2022-09-23  1.797687  0.206993         0\n",
      "2022-09-24  0.640843  0.516573         0\n",
      "2022-09-25 -0.571179  0.005506         1\n",
      "2022-09-26  0.572583  0.007664         0\n"
     ]
    }
   ],
   "source": [
    "print(dframe.head(10))\n",
    "print()\n",
    "print(dframe.tail(5))"
   ]
  },
  {
   "cell_type": "markdown",
   "metadata": {},
   "source": [
    "### from the dataframe created for the previous question, print the basic information regarding the dataframe and the a blank line and basic statistical info about dataframe to console"
   ]
  },
  {
   "cell_type": "markdown",
   "metadata": {},
   "source": [
    ">use info() and describe()"
   ]
  },
  {
   "cell_type": "code",
   "execution_count": 213,
   "metadata": {},
   "outputs": [
    {
     "name": "stdout",
     "output_type": "stream",
     "text": [
      "<class 'pandas.core.frame.DataFrame'>\n",
      "DatetimeIndex: 1000 entries, 2020-01-01 to 2022-09-26\n",
      "Freq: D\n",
      "Data columns (total 3 columns):\n",
      "normal      1000 non-null float64\n",
      "uniform     1000 non-null float64\n",
      "binomial    1000 non-null int32\n",
      "dtypes: float64(2), int32(1)\n",
      "memory usage: 27.3 KB\n",
      "None\n",
      "\n",
      "<bound method NDFrame.describe of               normal   uniform  binomial\n",
      "2020-01-01  0.496714  0.167483         0\n",
      "2020-01-02 -0.138264  0.104568         0\n",
      "2020-01-03  0.647689  0.636430         0\n",
      "2020-01-04  1.523030  0.706476         0\n",
      "2020-01-05 -0.234153  0.031586         1\n",
      "2020-01-06 -0.234137  0.936212         0\n",
      "2020-01-07  1.579213  0.051971         0\n",
      "2020-01-08  0.767435  0.541296         0\n",
      "2020-01-09 -0.469474  0.709061         1\n",
      "2020-01-10  0.542560  0.870969         0\n",
      "2020-01-11 -0.463418  0.714087         0\n",
      "2020-01-12 -0.465730  0.801728         0\n",
      "2020-01-13  0.241962  0.339450         0\n",
      "2020-01-14 -1.913280  0.814825         0\n",
      "2020-01-15 -1.724918  0.080115         0\n",
      "2020-01-16 -0.562288  0.894817         1\n",
      "2020-01-17 -1.012831  0.547592         0\n",
      "2020-01-18  0.314247  0.817298         0\n",
      "2020-01-19 -0.908024  0.452318         1\n",
      "2020-01-20 -1.412304  0.643578         0\n",
      "2020-01-21  1.465649  0.526403         0\n",
      "2020-01-22 -0.225776  0.731590         0\n",
      "2020-01-23  0.067528  0.081630         0\n",
      "2020-01-24 -1.424748  0.060352         0\n",
      "2020-01-25 -0.544383  0.247103         1\n",
      "2020-01-26  0.110923  0.159545         0\n",
      "2020-01-27 -1.150994  0.871784         0\n",
      "2020-01-28  0.375698  0.219214         0\n",
      "2020-01-29 -0.600639  0.975865         1\n",
      "2020-01-30 -0.291694  0.336896         1\n",
      "...              ...       ...       ...\n",
      "2022-08-28  0.128104  0.591697         0\n",
      "2022-08-29 -0.681052  0.702634         0\n",
      "2022-08-30  0.840644  0.237433         0\n",
      "2022-08-31 -0.652624  0.512364         0\n",
      "2022-09-01 -0.446183  0.104225         0\n",
      "2022-09-02 -1.889541  0.384511         0\n",
      "2022-09-03 -0.452306  0.487667         0\n",
      "2022-09-04 -2.423879  0.652224         0\n",
      "2022-09-05 -1.583903  0.950531         1\n",
      "2022-09-06  0.760415  0.600651         1\n",
      "2022-09-07  0.785800  0.743594         1\n",
      "2022-09-08  0.425458  0.506266         0\n",
      "2022-09-09 -0.966976  0.634104         0\n",
      "2022-09-10 -0.047711  0.070932         0\n",
      "2022-09-11 -0.003603  0.254392         0\n",
      "2022-09-12 -1.158365  0.361853         0\n",
      "2022-09-13  1.503398  0.472493         1\n",
      "2022-09-14  0.877362  0.045649         1\n",
      "2022-09-15 -0.220964  0.140024         0\n",
      "2022-09-16  0.026886  0.276814         0\n",
      "2022-09-17  0.208383  0.971533         0\n",
      "2022-09-18 -2.041735  0.331347         1\n",
      "2022-09-19 -0.247177  0.482041         1\n",
      "2022-09-20 -0.681984  0.196098         0\n",
      "2022-09-21 -1.001620  0.610780         0\n",
      "2022-09-22 -0.281100  0.280683         1\n",
      "2022-09-23  1.797687  0.206993         0\n",
      "2022-09-24  0.640843  0.516573         0\n",
      "2022-09-25 -0.571179  0.005506         1\n",
      "2022-09-26  0.572583  0.007664         0\n",
      "\n",
      "[1000 rows x 3 columns]>\n"
     ]
    }
   ],
   "source": [
    "print(f\"{dframe.info()}\\n\\n{dframe.describe}\")"
   ]
  },
  {
   "cell_type": "markdown",
   "metadata": {},
   "source": [
    "### find the distribution of binomial column from the dataframe and print to the console"
   ]
  },
  {
   "cell_type": "markdown",
   "metadata": {},
   "source": [
    "> use value_counts()"
   ]
  },
  {
   "cell_type": "code",
   "execution_count": 214,
   "metadata": {},
   "outputs": [
    {
     "data": {
      "text/plain": [
       "0    808\n",
       "1    192\n",
       "Name: binomial, dtype: int64"
      ]
     },
     "execution_count": 214,
     "metadata": {},
     "output_type": "execute_result"
    }
   ],
   "source": [
    "dframe['binomial'].value_counts()"
   ]
  },
  {
   "cell_type": "markdown",
   "metadata": {},
   "source": [
    "### extract the first 50 rows from the dataframe and save to the \"dataframe50.csv\" file"
   ]
  },
  {
   "cell_type": "markdown",
   "metadata": {},
   "source": [
    ">use to_csv()"
   ]
  },
  {
   "cell_type": "code",
   "execution_count": 216,
   "metadata": {},
   "outputs": [
    {
     "data": {
      "text/plain": [
       "50"
      ]
     },
     "execution_count": 216,
     "metadata": {},
     "output_type": "execute_result"
    }
   ],
   "source": [
    "len(dframe[:50])"
   ]
  },
  {
   "cell_type": "code",
   "execution_count": 239,
   "metadata": {},
   "outputs": [
    {
     "data": {
      "text/html": [
       "<div>\n",
       "<style scoped>\n",
       "    .dataframe tbody tr th:only-of-type {\n",
       "        vertical-align: middle;\n",
       "    }\n",
       "\n",
       "    .dataframe tbody tr th {\n",
       "        vertical-align: top;\n",
       "    }\n",
       "\n",
       "    .dataframe thead th {\n",
       "        text-align: right;\n",
       "    }\n",
       "</style>\n",
       "<table border=\"1\" class=\"dataframe\">\n",
       "  <thead>\n",
       "    <tr style=\"text-align: right;\">\n",
       "      <th></th>\n",
       "      <th>normal</th>\n",
       "      <th>uniform</th>\n",
       "      <th>binomial</th>\n",
       "    </tr>\n",
       "  </thead>\n",
       "  <tbody>\n",
       "    <tr>\n",
       "      <th>2020-01-01</th>\n",
       "      <td>0.496714</td>\n",
       "      <td>0.167483</td>\n",
       "      <td>0</td>\n",
       "    </tr>\n",
       "    <tr>\n",
       "      <th>2020-01-02</th>\n",
       "      <td>-0.138264</td>\n",
       "      <td>0.104568</td>\n",
       "      <td>0</td>\n",
       "    </tr>\n",
       "  </tbody>\n",
       "</table>\n",
       "</div>"
      ],
      "text/plain": [
       "              normal   uniform  binomial\n",
       "2020-01-01  0.496714  0.167483         0\n",
       "2020-01-02 -0.138264  0.104568         0"
      ]
     },
     "execution_count": 239,
     "metadata": {},
     "output_type": "execute_result"
    }
   ],
   "source": [
    "dframe[0:2]"
   ]
  },
  {
   "cell_type": "code",
   "execution_count": 246,
   "metadata": {},
   "outputs": [],
   "source": [
    "dframe[:50].to_csv(\"dataframe50.csv\")"
   ]
  },
  {
   "cell_type": "markdown",
   "metadata": {},
   "source": [
    "### load the \"dataframe50.csv\" to a new variable and print to the console"
   ]
  },
  {
   "cell_type": "code",
   "execution_count": 247,
   "metadata": {},
   "outputs": [],
   "source": [
    "csv=pd.read_csv(\"dataframe50.csv\")"
   ]
  },
  {
   "cell_type": "code",
   "execution_count": 248,
   "metadata": {},
   "outputs": [
    {
     "data": {
      "text/html": [
       "<div>\n",
       "<style scoped>\n",
       "    .dataframe tbody tr th:only-of-type {\n",
       "        vertical-align: middle;\n",
       "    }\n",
       "\n",
       "    .dataframe tbody tr th {\n",
       "        vertical-align: top;\n",
       "    }\n",
       "\n",
       "    .dataframe thead th {\n",
       "        text-align: right;\n",
       "    }\n",
       "</style>\n",
       "<table border=\"1\" class=\"dataframe\">\n",
       "  <thead>\n",
       "    <tr style=\"text-align: right;\">\n",
       "      <th></th>\n",
       "      <th>Unnamed: 0</th>\n",
       "      <th>normal</th>\n",
       "      <th>uniform</th>\n",
       "      <th>binomial</th>\n",
       "    </tr>\n",
       "  </thead>\n",
       "  <tbody>\n",
       "    <tr>\n",
       "      <th>0</th>\n",
       "      <td>2020-01-01</td>\n",
       "      <td>0.496714</td>\n",
       "      <td>0.167483</td>\n",
       "      <td>0</td>\n",
       "    </tr>\n",
       "    <tr>\n",
       "      <th>1</th>\n",
       "      <td>2020-01-02</td>\n",
       "      <td>-0.138264</td>\n",
       "      <td>0.104568</td>\n",
       "      <td>0</td>\n",
       "    </tr>\n",
       "    <tr>\n",
       "      <th>2</th>\n",
       "      <td>2020-01-03</td>\n",
       "      <td>0.647689</td>\n",
       "      <td>0.636430</td>\n",
       "      <td>0</td>\n",
       "    </tr>\n",
       "    <tr>\n",
       "      <th>3</th>\n",
       "      <td>2020-01-04</td>\n",
       "      <td>1.523030</td>\n",
       "      <td>0.706476</td>\n",
       "      <td>0</td>\n",
       "    </tr>\n",
       "    <tr>\n",
       "      <th>4</th>\n",
       "      <td>2020-01-05</td>\n",
       "      <td>-0.234153</td>\n",
       "      <td>0.031586</td>\n",
       "      <td>1</td>\n",
       "    </tr>\n",
       "    <tr>\n",
       "      <th>5</th>\n",
       "      <td>2020-01-06</td>\n",
       "      <td>-0.234137</td>\n",
       "      <td>0.936212</td>\n",
       "      <td>0</td>\n",
       "    </tr>\n",
       "    <tr>\n",
       "      <th>6</th>\n",
       "      <td>2020-01-07</td>\n",
       "      <td>1.579213</td>\n",
       "      <td>0.051971</td>\n",
       "      <td>0</td>\n",
       "    </tr>\n",
       "    <tr>\n",
       "      <th>7</th>\n",
       "      <td>2020-01-08</td>\n",
       "      <td>0.767435</td>\n",
       "      <td>0.541296</td>\n",
       "      <td>0</td>\n",
       "    </tr>\n",
       "    <tr>\n",
       "      <th>8</th>\n",
       "      <td>2020-01-09</td>\n",
       "      <td>-0.469474</td>\n",
       "      <td>0.709061</td>\n",
       "      <td>1</td>\n",
       "    </tr>\n",
       "    <tr>\n",
       "      <th>9</th>\n",
       "      <td>2020-01-10</td>\n",
       "      <td>0.542560</td>\n",
       "      <td>0.870969</td>\n",
       "      <td>0</td>\n",
       "    </tr>\n",
       "    <tr>\n",
       "      <th>10</th>\n",
       "      <td>2020-01-11</td>\n",
       "      <td>-0.463418</td>\n",
       "      <td>0.714087</td>\n",
       "      <td>0</td>\n",
       "    </tr>\n",
       "    <tr>\n",
       "      <th>11</th>\n",
       "      <td>2020-01-12</td>\n",
       "      <td>-0.465730</td>\n",
       "      <td>0.801728</td>\n",
       "      <td>0</td>\n",
       "    </tr>\n",
       "    <tr>\n",
       "      <th>12</th>\n",
       "      <td>2020-01-13</td>\n",
       "      <td>0.241962</td>\n",
       "      <td>0.339450</td>\n",
       "      <td>0</td>\n",
       "    </tr>\n",
       "    <tr>\n",
       "      <th>13</th>\n",
       "      <td>2020-01-14</td>\n",
       "      <td>-1.913280</td>\n",
       "      <td>0.814825</td>\n",
       "      <td>0</td>\n",
       "    </tr>\n",
       "    <tr>\n",
       "      <th>14</th>\n",
       "      <td>2020-01-15</td>\n",
       "      <td>-1.724918</td>\n",
       "      <td>0.080115</td>\n",
       "      <td>0</td>\n",
       "    </tr>\n",
       "    <tr>\n",
       "      <th>15</th>\n",
       "      <td>2020-01-16</td>\n",
       "      <td>-0.562288</td>\n",
       "      <td>0.894817</td>\n",
       "      <td>1</td>\n",
       "    </tr>\n",
       "    <tr>\n",
       "      <th>16</th>\n",
       "      <td>2020-01-17</td>\n",
       "      <td>-1.012831</td>\n",
       "      <td>0.547592</td>\n",
       "      <td>0</td>\n",
       "    </tr>\n",
       "    <tr>\n",
       "      <th>17</th>\n",
       "      <td>2020-01-18</td>\n",
       "      <td>0.314247</td>\n",
       "      <td>0.817298</td>\n",
       "      <td>0</td>\n",
       "    </tr>\n",
       "    <tr>\n",
       "      <th>18</th>\n",
       "      <td>2020-01-19</td>\n",
       "      <td>-0.908024</td>\n",
       "      <td>0.452318</td>\n",
       "      <td>1</td>\n",
       "    </tr>\n",
       "    <tr>\n",
       "      <th>19</th>\n",
       "      <td>2020-01-20</td>\n",
       "      <td>-1.412304</td>\n",
       "      <td>0.643578</td>\n",
       "      <td>0</td>\n",
       "    </tr>\n",
       "    <tr>\n",
       "      <th>20</th>\n",
       "      <td>2020-01-21</td>\n",
       "      <td>1.465649</td>\n",
       "      <td>0.526403</td>\n",
       "      <td>0</td>\n",
       "    </tr>\n",
       "    <tr>\n",
       "      <th>21</th>\n",
       "      <td>2020-01-22</td>\n",
       "      <td>-0.225776</td>\n",
       "      <td>0.731590</td>\n",
       "      <td>0</td>\n",
       "    </tr>\n",
       "    <tr>\n",
       "      <th>22</th>\n",
       "      <td>2020-01-23</td>\n",
       "      <td>0.067528</td>\n",
       "      <td>0.081630</td>\n",
       "      <td>0</td>\n",
       "    </tr>\n",
       "    <tr>\n",
       "      <th>23</th>\n",
       "      <td>2020-01-24</td>\n",
       "      <td>-1.424748</td>\n",
       "      <td>0.060352</td>\n",
       "      <td>0</td>\n",
       "    </tr>\n",
       "    <tr>\n",
       "      <th>24</th>\n",
       "      <td>2020-01-25</td>\n",
       "      <td>-0.544383</td>\n",
       "      <td>0.247103</td>\n",
       "      <td>1</td>\n",
       "    </tr>\n",
       "    <tr>\n",
       "      <th>25</th>\n",
       "      <td>2020-01-26</td>\n",
       "      <td>0.110923</td>\n",
       "      <td>0.159545</td>\n",
       "      <td>0</td>\n",
       "    </tr>\n",
       "    <tr>\n",
       "      <th>26</th>\n",
       "      <td>2020-01-27</td>\n",
       "      <td>-1.150994</td>\n",
       "      <td>0.871784</td>\n",
       "      <td>0</td>\n",
       "    </tr>\n",
       "    <tr>\n",
       "      <th>27</th>\n",
       "      <td>2020-01-28</td>\n",
       "      <td>0.375698</td>\n",
       "      <td>0.219214</td>\n",
       "      <td>0</td>\n",
       "    </tr>\n",
       "    <tr>\n",
       "      <th>28</th>\n",
       "      <td>2020-01-29</td>\n",
       "      <td>-0.600639</td>\n",
       "      <td>0.975865</td>\n",
       "      <td>1</td>\n",
       "    </tr>\n",
       "    <tr>\n",
       "      <th>29</th>\n",
       "      <td>2020-01-30</td>\n",
       "      <td>-0.291694</td>\n",
       "      <td>0.336896</td>\n",
       "      <td>1</td>\n",
       "    </tr>\n",
       "    <tr>\n",
       "      <th>30</th>\n",
       "      <td>2020-01-31</td>\n",
       "      <td>-0.601707</td>\n",
       "      <td>0.182118</td>\n",
       "      <td>1</td>\n",
       "    </tr>\n",
       "    <tr>\n",
       "      <th>31</th>\n",
       "      <td>2020-02-01</td>\n",
       "      <td>1.852278</td>\n",
       "      <td>0.789699</td>\n",
       "      <td>0</td>\n",
       "    </tr>\n",
       "    <tr>\n",
       "      <th>32</th>\n",
       "      <td>2020-02-02</td>\n",
       "      <td>-0.013497</td>\n",
       "      <td>0.658708</td>\n",
       "      <td>0</td>\n",
       "    </tr>\n",
       "    <tr>\n",
       "      <th>33</th>\n",
       "      <td>2020-02-03</td>\n",
       "      <td>-1.057711</td>\n",
       "      <td>0.498196</td>\n",
       "      <td>0</td>\n",
       "    </tr>\n",
       "    <tr>\n",
       "      <th>34</th>\n",
       "      <td>2020-02-04</td>\n",
       "      <td>0.822545</td>\n",
       "      <td>0.555364</td>\n",
       "      <td>0</td>\n",
       "    </tr>\n",
       "    <tr>\n",
       "      <th>35</th>\n",
       "      <td>2020-02-05</td>\n",
       "      <td>-1.220844</td>\n",
       "      <td>0.719202</td>\n",
       "      <td>0</td>\n",
       "    </tr>\n",
       "    <tr>\n",
       "      <th>36</th>\n",
       "      <td>2020-02-06</td>\n",
       "      <td>0.208864</td>\n",
       "      <td>0.228455</td>\n",
       "      <td>0</td>\n",
       "    </tr>\n",
       "    <tr>\n",
       "      <th>37</th>\n",
       "      <td>2020-02-07</td>\n",
       "      <td>-1.959670</td>\n",
       "      <td>0.996334</td>\n",
       "      <td>0</td>\n",
       "    </tr>\n",
       "    <tr>\n",
       "      <th>38</th>\n",
       "      <td>2020-02-08</td>\n",
       "      <td>-1.328186</td>\n",
       "      <td>0.974793</td>\n",
       "      <td>0</td>\n",
       "    </tr>\n",
       "    <tr>\n",
       "      <th>39</th>\n",
       "      <td>2020-02-09</td>\n",
       "      <td>0.196861</td>\n",
       "      <td>0.650326</td>\n",
       "      <td>0</td>\n",
       "    </tr>\n",
       "    <tr>\n",
       "      <th>40</th>\n",
       "      <td>2020-02-10</td>\n",
       "      <td>0.738467</td>\n",
       "      <td>0.199542</td>\n",
       "      <td>0</td>\n",
       "    </tr>\n",
       "    <tr>\n",
       "      <th>41</th>\n",
       "      <td>2020-02-11</td>\n",
       "      <td>0.171368</td>\n",
       "      <td>0.680228</td>\n",
       "      <td>0</td>\n",
       "    </tr>\n",
       "    <tr>\n",
       "      <th>42</th>\n",
       "      <td>2020-02-12</td>\n",
       "      <td>-0.115648</td>\n",
       "      <td>0.072198</td>\n",
       "      <td>0</td>\n",
       "    </tr>\n",
       "    <tr>\n",
       "      <th>43</th>\n",
       "      <td>2020-02-13</td>\n",
       "      <td>-0.301104</td>\n",
       "      <td>0.030653</td>\n",
       "      <td>0</td>\n",
       "    </tr>\n",
       "    <tr>\n",
       "      <th>44</th>\n",
       "      <td>2020-02-14</td>\n",
       "      <td>-1.478522</td>\n",
       "      <td>0.257683</td>\n",
       "      <td>0</td>\n",
       "    </tr>\n",
       "    <tr>\n",
       "      <th>45</th>\n",
       "      <td>2020-02-15</td>\n",
       "      <td>-0.719844</td>\n",
       "      <td>0.462623</td>\n",
       "      <td>0</td>\n",
       "    </tr>\n",
       "    <tr>\n",
       "      <th>46</th>\n",
       "      <td>2020-02-16</td>\n",
       "      <td>-0.460639</td>\n",
       "      <td>0.868273</td>\n",
       "      <td>0</td>\n",
       "    </tr>\n",
       "    <tr>\n",
       "      <th>47</th>\n",
       "      <td>2020-02-17</td>\n",
       "      <td>1.057122</td>\n",
       "      <td>0.727169</td>\n",
       "      <td>0</td>\n",
       "    </tr>\n",
       "    <tr>\n",
       "      <th>48</th>\n",
       "      <td>2020-02-18</td>\n",
       "      <td>0.343618</td>\n",
       "      <td>0.742707</td>\n",
       "      <td>1</td>\n",
       "    </tr>\n",
       "    <tr>\n",
       "      <th>49</th>\n",
       "      <td>2020-02-19</td>\n",
       "      <td>-1.763040</td>\n",
       "      <td>0.425493</td>\n",
       "      <td>0</td>\n",
       "    </tr>\n",
       "  </tbody>\n",
       "</table>\n",
       "</div>"
      ],
      "text/plain": [
       "    Unnamed: 0    normal   uniform  binomial\n",
       "0   2020-01-01  0.496714  0.167483         0\n",
       "1   2020-01-02 -0.138264  0.104568         0\n",
       "2   2020-01-03  0.647689  0.636430         0\n",
       "3   2020-01-04  1.523030  0.706476         0\n",
       "4   2020-01-05 -0.234153  0.031586         1\n",
       "5   2020-01-06 -0.234137  0.936212         0\n",
       "6   2020-01-07  1.579213  0.051971         0\n",
       "7   2020-01-08  0.767435  0.541296         0\n",
       "8   2020-01-09 -0.469474  0.709061         1\n",
       "9   2020-01-10  0.542560  0.870969         0\n",
       "10  2020-01-11 -0.463418  0.714087         0\n",
       "11  2020-01-12 -0.465730  0.801728         0\n",
       "12  2020-01-13  0.241962  0.339450         0\n",
       "13  2020-01-14 -1.913280  0.814825         0\n",
       "14  2020-01-15 -1.724918  0.080115         0\n",
       "15  2020-01-16 -0.562288  0.894817         1\n",
       "16  2020-01-17 -1.012831  0.547592         0\n",
       "17  2020-01-18  0.314247  0.817298         0\n",
       "18  2020-01-19 -0.908024  0.452318         1\n",
       "19  2020-01-20 -1.412304  0.643578         0\n",
       "20  2020-01-21  1.465649  0.526403         0\n",
       "21  2020-01-22 -0.225776  0.731590         0\n",
       "22  2020-01-23  0.067528  0.081630         0\n",
       "23  2020-01-24 -1.424748  0.060352         0\n",
       "24  2020-01-25 -0.544383  0.247103         1\n",
       "25  2020-01-26  0.110923  0.159545         0\n",
       "26  2020-01-27 -1.150994  0.871784         0\n",
       "27  2020-01-28  0.375698  0.219214         0\n",
       "28  2020-01-29 -0.600639  0.975865         1\n",
       "29  2020-01-30 -0.291694  0.336896         1\n",
       "30  2020-01-31 -0.601707  0.182118         1\n",
       "31  2020-02-01  1.852278  0.789699         0\n",
       "32  2020-02-02 -0.013497  0.658708         0\n",
       "33  2020-02-03 -1.057711  0.498196         0\n",
       "34  2020-02-04  0.822545  0.555364         0\n",
       "35  2020-02-05 -1.220844  0.719202         0\n",
       "36  2020-02-06  0.208864  0.228455         0\n",
       "37  2020-02-07 -1.959670  0.996334         0\n",
       "38  2020-02-08 -1.328186  0.974793         0\n",
       "39  2020-02-09  0.196861  0.650326         0\n",
       "40  2020-02-10  0.738467  0.199542         0\n",
       "41  2020-02-11  0.171368  0.680228         0\n",
       "42  2020-02-12 -0.115648  0.072198         0\n",
       "43  2020-02-13 -0.301104  0.030653         0\n",
       "44  2020-02-14 -1.478522  0.257683         0\n",
       "45  2020-02-15 -0.719844  0.462623         0\n",
       "46  2020-02-16 -0.460639  0.868273         0\n",
       "47  2020-02-17  1.057122  0.727169         0\n",
       "48  2020-02-18  0.343618  0.742707         1\n",
       "49  2020-02-19 -1.763040  0.425493         0"
      ]
     },
     "execution_count": 248,
     "metadata": {},
     "output_type": "execute_result"
    }
   ],
   "source": [
    "csv"
   ]
  },
  {
   "cell_type": "code",
   "execution_count": null,
   "metadata": {},
   "outputs": [],
   "source": []
  }
 ],
 "metadata": {
  "kernelspec": {
   "display_name": "Python 3",
   "language": "python",
   "name": "python3"
  },
  "language_info": {
   "codemirror_mode": {
    "name": "ipython",
    "version": 3
   },
   "file_extension": ".py",
   "mimetype": "text/x-python",
   "name": "python",
   "nbconvert_exporter": "python",
   "pygments_lexer": "ipython3",
   "version": "3.7.3"
  },
  "latex_envs": {
   "LaTeX_envs_menu_present": true,
   "autoclose": false,
   "autocomplete": true,
   "bibliofile": "biblio.bib",
   "cite_by": "apalike",
   "current_citInitial": 1,
   "eqLabelWithNumbers": true,
   "eqNumInitial": 1,
   "hotkeys": {
    "equation": "Ctrl-E",
    "itemize": "Ctrl-I"
   },
   "labels_anchors": false,
   "latex_user_defs": false,
   "report_style_numbering": false,
   "user_envs_cfg": false
  },
  "toc": {
   "base_numbering": 1,
   "nav_menu": {},
   "number_sections": true,
   "sideBar": true,
   "skip_h1_title": true,
   "title_cell": "Table of Contents",
   "title_sidebar": "Contents",
   "toc_cell": false,
   "toc_position": {},
   "toc_section_display": true,
   "toc_window_display": true
  },
  "varInspector": {
   "cols": {
    "lenName": 16,
    "lenType": 16,
    "lenVar": 40
   },
   "kernels_config": {
    "python": {
     "delete_cmd_postfix": "",
     "delete_cmd_prefix": "del ",
     "library": "var_list.py",
     "varRefreshCmd": "print(var_dic_list())"
    },
    "r": {
     "delete_cmd_postfix": ") ",
     "delete_cmd_prefix": "rm(",
     "library": "var_list.r",
     "varRefreshCmd": "cat(var_dic_list()) "
    }
   },
   "types_to_exclude": [
    "module",
    "function",
    "builtin_function_or_method",
    "instance",
    "_Feature"
   ],
   "window_display": false
  }
 },
 "nbformat": 4,
 "nbformat_minor": 5
}
